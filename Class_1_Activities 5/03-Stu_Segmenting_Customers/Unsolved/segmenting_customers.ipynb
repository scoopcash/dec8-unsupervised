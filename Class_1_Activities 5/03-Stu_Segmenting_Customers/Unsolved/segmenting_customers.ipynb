{
 "cells": [
  {
   "cell_type": "markdown",
   "metadata": {},
   "source": [
    "# Segmenting Customers\n",
    "\n",
    "You have been asked to review how the customer ratings data looks when modeled with 3 and 4 clusters.\n",
    "\n",
    "Using the information contained in this notebook, apply the K-means algrothim to the service_ratings data using both 3 and 4 clusters to segment the customer information."
   ]
  },
  {
   "cell_type": "code",
   "execution_count": 15,
   "metadata": {},
   "outputs": [],
   "source": [
    "# Import the modules\n",
    "import pandas as pd\n",
    "from pathlib import Path\n",
    "import hvplot.pandas\n",
    "\n",
    "# Import the K-means algorithm\n",
    "from sklearn.cluster import KMeans"
   ]
  },
  {
   "cell_type": "code",
   "execution_count": 16,
   "metadata": {},
   "outputs": [
    {
     "data": {
      "text/html": [
       "<div>\n",
       "<style scoped>\n",
       "    .dataframe tbody tr th:only-of-type {\n",
       "        vertical-align: middle;\n",
       "    }\n",
       "\n",
       "    .dataframe tbody tr th {\n",
       "        vertical-align: top;\n",
       "    }\n",
       "\n",
       "    .dataframe thead th {\n",
       "        text-align: right;\n",
       "    }\n",
       "</style>\n",
       "<table border=\"1\" class=\"dataframe\">\n",
       "  <thead>\n",
       "    <tr style=\"text-align: right;\">\n",
       "      <th></th>\n",
       "      <th>mobile_app_rating</th>\n",
       "      <th>personal_banker_rating</th>\n",
       "    </tr>\n",
       "  </thead>\n",
       "  <tbody>\n",
       "    <tr>\n",
       "      <th>0</th>\n",
       "      <td>3.50</td>\n",
       "      <td>2.40</td>\n",
       "    </tr>\n",
       "    <tr>\n",
       "      <th>1</th>\n",
       "      <td>3.65</td>\n",
       "      <td>3.14</td>\n",
       "    </tr>\n",
       "    <tr>\n",
       "      <th>2</th>\n",
       "      <td>2.90</td>\n",
       "      <td>2.75</td>\n",
       "    </tr>\n",
       "    <tr>\n",
       "      <th>3</th>\n",
       "      <td>2.93</td>\n",
       "      <td>3.36</td>\n",
       "    </tr>\n",
       "    <tr>\n",
       "      <th>4</th>\n",
       "      <td>2.89</td>\n",
       "      <td>2.62</td>\n",
       "    </tr>\n",
       "  </tbody>\n",
       "</table>\n",
       "</div>"
      ],
      "text/plain": [
       "   mobile_app_rating  personal_banker_rating\n",
       "0               3.50                    2.40\n",
       "1               3.65                    3.14\n",
       "2               2.90                    2.75\n",
       "3               2.93                    3.36\n",
       "4               2.89                    2.62"
      ]
     },
     "execution_count": 16,
     "metadata": {},
     "output_type": "execute_result"
    }
   ],
   "source": [
    "# Read in the CSV file as a Pandas DataFrame\n",
    "service_ratings_df = pd.read_csv(\n",
    "    Path(\"../Resources/service_ratings.csv\")\n",
    ")\n",
    "\n",
    "# Review the DataFrame\n",
    "service_ratings_df.head()"
   ]
  },
  {
   "cell_type": "code",
   "execution_count": 17,
   "metadata": {},
   "outputs": [
    {
     "data": {},
     "metadata": {},
     "output_type": "display_data"
    },
    {
     "data": {
      "application/vnd.holoviews_exec.v0+json": "",
      "text/html": [
       "<div id='1310'>\n",
       "  <div class=\"bk-root\" id=\"41b75e95-639e-4718-9ba3-46da44935cff\" data-root-id=\"1310\"></div>\n",
       "</div>\n",
       "<script type=\"application/javascript\">(function(root) {\n",
       "  function embed_document(root) {\n",
       "    var docs_json = {\"63864976-1187-4d9f-bb25-8c26995cf305\":{\"defs\":[{\"extends\":null,\"module\":null,\"name\":\"ReactiveHTML1\",\"overrides\":[],\"properties\":[]},{\"extends\":null,\"module\":null,\"name\":\"FlexBox1\",\"overrides\":[],\"properties\":[{\"default\":\"flex-start\",\"kind\":null,\"name\":\"align_content\"},{\"default\":\"flex-start\",\"kind\":null,\"name\":\"align_items\"},{\"default\":\"row\",\"kind\":null,\"name\":\"flex_direction\"},{\"default\":\"wrap\",\"kind\":null,\"name\":\"flex_wrap\"},{\"default\":\"flex-start\",\"kind\":null,\"name\":\"justify_content\"}]},{\"extends\":null,\"module\":null,\"name\":\"GridStack1\",\"overrides\":[],\"properties\":[{\"default\":\"warn\",\"kind\":null,\"name\":\"mode\"},{\"default\":null,\"kind\":null,\"name\":\"ncols\"},{\"default\":null,\"kind\":null,\"name\":\"nrows\"},{\"default\":true,\"kind\":null,\"name\":\"allow_resize\"},{\"default\":true,\"kind\":null,\"name\":\"allow_drag\"},{\"default\":[],\"kind\":null,\"name\":\"state\"}]},{\"extends\":null,\"module\":null,\"name\":\"click1\",\"overrides\":[],\"properties\":[{\"default\":\"\",\"kind\":null,\"name\":\"terminal_output\"},{\"default\":\"\",\"kind\":null,\"name\":\"debug_name\"},{\"default\":0,\"kind\":null,\"name\":\"clears\"}]},{\"extends\":null,\"module\":null,\"name\":\"NotificationAreaBase1\",\"overrides\":[],\"properties\":[{\"default\":\"bottom-right\",\"kind\":null,\"name\":\"position\"},{\"default\":0,\"kind\":null,\"name\":\"_clear\"}]},{\"extends\":null,\"module\":null,\"name\":\"NotificationArea1\",\"overrides\":[],\"properties\":[{\"default\":[],\"kind\":null,\"name\":\"notifications\"},{\"default\":\"bottom-right\",\"kind\":null,\"name\":\"position\"},{\"default\":0,\"kind\":null,\"name\":\"_clear\"},{\"default\":[{\"background\":\"#ffc107\",\"icon\":{\"className\":\"fas fa-exclamation-triangle\",\"color\":\"white\",\"tagName\":\"i\"},\"type\":\"warning\"},{\"background\":\"#007bff\",\"icon\":{\"className\":\"fas fa-info-circle\",\"color\":\"white\",\"tagName\":\"i\"},\"type\":\"info\"}],\"kind\":null,\"name\":\"types\"}]},{\"extends\":null,\"module\":null,\"name\":\"Notification\",\"overrides\":[],\"properties\":[{\"default\":null,\"kind\":null,\"name\":\"background\"},{\"default\":3000,\"kind\":null,\"name\":\"duration\"},{\"default\":null,\"kind\":null,\"name\":\"icon\"},{\"default\":\"\",\"kind\":null,\"name\":\"message\"},{\"default\":null,\"kind\":null,\"name\":\"notification_type\"},{\"default\":false,\"kind\":null,\"name\":\"_destroyed\"}]},{\"extends\":null,\"module\":null,\"name\":\"TemplateActions1\",\"overrides\":[],\"properties\":[{\"default\":0,\"kind\":null,\"name\":\"open_modal\"},{\"default\":0,\"kind\":null,\"name\":\"close_modal\"}]},{\"extends\":null,\"module\":null,\"name\":\"MaterialTemplateActions1\",\"overrides\":[],\"properties\":[{\"default\":0,\"kind\":null,\"name\":\"open_modal\"},{\"default\":0,\"kind\":null,\"name\":\"close_modal\"}]}],\"roots\":{\"references\":[{\"attributes\":{\"end\":5.263,\"reset_end\":5.263,\"reset_start\":0.06699999999999995,\"start\":0.06699999999999995,\"tags\":[[[\"personal_banker_rating\",\"personal_banker_rating\",null]]]},\"id\":\"1313\",\"type\":\"Range1d\"},{\"attributes\":{\"angle\":{\"value\":0.0},\"fill_alpha\":{\"value\":1.0},\"fill_color\":{\"value\":\"#30a2da\"},\"hatch_alpha\":{\"value\":1.0},\"hatch_color\":{\"value\":\"#30a2da\"},\"hatch_scale\":{\"value\":12.0},\"hatch_weight\":{\"value\":1.0},\"line_alpha\":{\"value\":1.0},\"line_cap\":{\"value\":\"butt\"},\"line_color\":{\"value\":\"#30a2da\"},\"line_dash\":{\"value\":[]},\"line_dash_offset\":{\"value\":0},\"line_join\":{\"value\":\"bevel\"},\"line_width\":{\"value\":1},\"marker\":{\"value\":\"circle\"},\"size\":{\"value\":5.477225575051661},\"x\":{\"field\":\"mobile_app_rating\"},\"y\":{\"field\":\"personal_banker_rating\"}},\"id\":\"1353\",\"type\":\"Scatter\"},{\"attributes\":{},\"id\":\"1322\",\"type\":\"LinearScale\"},{\"attributes\":{\"coordinates\":null,\"data_source\":{\"id\":\"1345\"},\"glyph\":{\"id\":\"1348\"},\"group\":null,\"hover_glyph\":null,\"muted_glyph\":{\"id\":\"1350\"},\"nonselection_glyph\":{\"id\":\"1349\"},\"selection_glyph\":{\"id\":\"1353\"},\"view\":{\"id\":\"1352\"}},\"id\":\"1351\",\"type\":\"GlyphRenderer\"},{\"attributes\":{\"fill_alpha\":{\"value\":0.2},\"fill_color\":{\"value\":\"#30a2da\"},\"hatch_alpha\":{\"value\":0.2},\"hatch_color\":{\"value\":\"#30a2da\"},\"line_alpha\":{\"value\":0.2},\"line_color\":{\"value\":\"#30a2da\"},\"size\":{\"value\":5.477225575051661},\"x\":{\"field\":\"mobile_app_rating\"},\"y\":{\"field\":\"personal_banker_rating\"}},\"id\":\"1350\",\"type\":\"Scatter\"},{\"attributes\":{\"fill_color\":{\"value\":\"#30a2da\"},\"hatch_color\":{\"value\":\"#30a2da\"},\"line_color\":{\"value\":\"#30a2da\"},\"size\":{\"value\":5.477225575051661},\"x\":{\"field\":\"mobile_app_rating\"},\"y\":{\"field\":\"personal_banker_rating\"}},\"id\":\"1348\",\"type\":\"Scatter\"},{\"attributes\":{\"data\":{\"mobile_app_rating\":{\"__ndarray__\":\"AAAAAAAADEAzMzMzMzMNQDMzMzMzMwdAcT0K16NwB0AfhetRuB4HQOF6FK5H4QRAexSuR+F6CkAUrkfhehQOQAAAAAAAAAhAKVyPwvUo7D9mZmZmZmYKQFyPwvUoXAdAAAAAAAAAEUCkcD0K16MKQK5H4XoUrg9AAAAAAAAADkAAAAAAAAAGQEjhehSuRwtAcT0K16NwB0CkcD0K16MCQFK4HoXrURFAXI/C9ShcDUAAAAAAAAAIQHE9CtejcA1A9ihcj8L1BkB7FK5H4XoOQAAAAAAAAARAzczMzMzMCkBcj8L1KFwBQLgehetRuBBAcT0K16NwDUC4HoXrUbgIQOF6FK5H4RBAMzMzMzMzC0AfhetRuB4LQFyPwvUoXANAAAAAAAAACEDNzMzMzMwEQAAAAAAAABJAcT0K16NwB0AfhetRuB4JQD0K16NwPRJAXI/C9ShcEEBSuB6F61EKQB+F61G4Hg9ASOF6FK5HB0AAAAAAAAAIQAAAAAAAABJAMzMzMzMzC0CF61G4HoULQHsUrkfheghA4XoUrkfhDkA9CtejcD0OQHE9CtejcA1AAAAAAAAACkD2KFyPwvUMQDMzMzMzMwdAmpmZmZmZCUAK16NwPQoHQBSuR+F6FApAhetRuB6FA0A9CtejcD0MQKRwPQrXowZAzczMzMzMCkBcj8L1KFwHQD0K16NwPQZAcT0K16NwC0Bcj8L1KFwNQB+F61G4HgNAKVyPwvUoCkAAAAAAAAAQQAAAAAAAAABAXI/C9ShcBUAfhetRuB4NQB+F61G4HgdAAAAAAAAADED2KFyPwvUMQHsUrkfheghASOF6FK5HC0DsUbgehesLQIXrUbgehQtAcT0K16NwEEAAAAAAAAACQJqZmZmZmQ1AAAAAAAAAEECkcD0K16MKQAAAAAAAAPA/rkfhehSuEkAzMzMzMzMPQAAAAAAAAAZAAAAAAAAAEkCkcD0K16MEQFK4HoXrUQpAAAAAAAAADEAAAAAAAAAOQI/C9ShcjxBAAAAAAAAAEEBmZmZmZmYMQPYoXI/C9QRArkfhehSuCUDsUbgehesNQKRwPQrXowhAMzMzMzMzC0DhehSuR+EGQJqZmZmZmQ1ASOF6FK5HD0D2KFyPwvUGQAAAAAAAAABA9ihcj8L1CkAAAAAAAAAOQI/C9ShcjwhA16NwPQrXCUBI4XoUrkcLQGZmZmZmZgxAmpmZmZmZCUCuR+F6FK4PQGZmZmZmZgJASOF6FK5H+T8zMzMzMzMHQFyPwvUoXA9AAAAAAAAADEDD9Shcj8IJQM3MzMzMzAhAUrgehetRCECPwvUoXI8EQOF6FK5H4QZApHA9CtejCkCPwvUoXI8OQKRwPQrXowZAj8L1KFyPBkCkcD0K16MGQFyPwvUoXA1AAAAAAAAADEDD9Shcj8ILQI/C9ShcjwhAH4XrUbgeC0AAAAAAAAAAQB+F61G4HgtAAAAAAAAADEDsUbgehesJQK5H4XoUrgtAKVyPwvUoCEBxPQrXo3AHQLgehetRuApAAAAAAAAADEC4HoXrUbgKQKRwPQrXowJAmpmZmZmZCUDhehSuR+EOQAAAAAAAAAhAAAAAAAAA/D8AAAAAAAAGQBSuR+F6FBFAPQrXo3A9EEAfhetRuB4NQLgehetRuAxAhetRuB6FCUDhehSuR+EKQM3MzMzMzBBAexSuR+F6DkBSuB6F61EIQMP1KFyPwhBArkfhehSuDUB7FK5H4XoIQFyPwvUoXA1AUrgehetRCEBmZmZmZmYGQAAAAAAAAAhASOF6FK5HBUAAAAAAAAAQQFK4HoXrURJAAAAAAAAACEAAAAAAAAAMQAAAAAAAAApACtejcD0KC0AAAAAAAAAAQArXo3A9Cg1ArkfhehSuC0CF61G4HoULQDMzMzMzMwNAAAAAAAAACkAAAAAAAAAMQLgehetRuAxA\",\"dtype\":\"float64\",\"order\":\"little\",\"shape\":[183]},\"personal_banker_rating\":{\"__ndarray__\":\"MzMzMzMzA0AfhetRuB4JQAAAAAAAAAZA4XoUrkfhCkD2KFyPwvUEQBSuR+F6FARA9ihcj8L1CECPwvUoXI8IQFyPwvUoXAlAAAAAAAAACECkcD0K16MGQFyPwvUoXAFAAAAAAAAACECamZmZmZkFQAAAAAAAAABA9ihcj8L1CEAzMzMzMzMFQLgehetRuAhAcT0K16NwC0DD9Shcj8IFQAAAAAAAAARAKVyPwvUoBkAfhetRuB4HQHE9CtejcAdAKVyPwvUoCEAK16NwPQoDQD0K16NwPRBAXI/C9ShcCUAAAAAAAAAIQAAAAAAAAOA/H4XrUbgeCUAAAAAAAAAGQAAAAAAAAAhAAAAAAAAAAEBxPQrXo3AJQNejcD0K1wdAXI/C9ShcBUCPwvUoXI8EQGZmZmZmZgRAuB6F61G4DEApXI/C9SgIQFyPwvUoXAlAAAAAAAAABEAAAAAAAAAIQKRwPQrXowZA7FG4HoXrB0AAAAAAAAAEQAAAAAAAAAhAAAAAAAAACEBcj8L1KFwJQFK4HoXrUQhAAAAAAAAABEAAAAAAAAAIQIXrUbgehQlAXI/C9ShcBUBmZmZmZmYGQLgehetRuAZAAAAAAAAAAECkcD0K16MKQMP1KFyPwgdAMzMzMzMzB0DNzMzMzMwGQAAAAAAAAAhApHA9CtejBkCPwvUoXI8IQAAAAAAAAAhAAAAAAAAA8D8AAAAAAAAAQLgehetRuARAPQrXo3A9CEAAAAAAAAAAQAAAAAAAAA5AAAAAAAAABkAAAAAAAAAIQGZmZmZmZg5AAAAAAAAACEAAAAAAAAAAQM3MzMzMzAZACtejcD0KBUCF61G4HoUJQAAAAAAAAAhAAAAAAAAAAEAAAAAAAAAKQAAAAAAAAAhApHA9CtejBkAAAAAAAAAEQAAAAAAAABJAMzMzMzMzB0AAAAAAAADgP9ejcD0K1xBAXI/C9ShcCUAAAAAAAAAEQM3MzMzMzAZApHA9CtejBkD2KFyPwvX4P83MzMzMzAZAAAAAAAAAAEBmZmZmZmYGQAAAAAAAAAhA9ihcj8L1BEAzMzMzMzMDQMP1KFyPwgNApHA9CtejCECuR+F6FK4DQAAAAAAAAARAAAAAAAAABEBcj8L1KFwNQHsUrkfhegxAhetRuB6FCUAAAAAAAAAIQHE9CtejcAVAAAAAAAAABEAzMzMzMzMHQAAAAAAAAAhAXI/C9ShcAUAAAAAAAAAIQAAAAAAAAAxA4XoUrkfhBkAAAAAAAAAEQArXo3A9CglApHA9CtejAkC4HoXrUbgGQOF6FK5H4QZA4XoUrkfhCEBmZmZmZmYAQMP1KFyPwgVAXI/C9ShcB0AAAAAAAAAIQHE9CtejcAVAFK5H4XoUBkAK16NwPQoDQAAAAAAAAAhAAAAAAAAACEBcj8L1KFwFQHE9CtejcAdA9ihcj8L1/D9cj8L1KFwFQDMzMzMzMwdAXI/C9ShcCUDNzMzMzMwIQAAAAAAAAAZAzczMzMzMCEBmZmZmZmYKQClcj8L1KAhAH4XrUbgeB0B7FK5H4XoGQAAAAAAAAAhApHA9CtejAkAAAAAAAAAIQI/C9ShcjwRAAAAAAAAAEEBcj8L1KFwJQAAAAAAAAABASOF6FK5HBUBcj8L1KFwFQAAAAAAAAAhASOF6FK5H/T+PwvUoXI8IQFyPwvUoXAlAuB6F61G4CEBcj8L1KFwFQDMzMzMzMwdAXI/C9ShcAUDNzMzMzMwEQAAAAAAAAAhACtejcD0KB0CF61G4HoUFQFK4HoXrUQZAXI/C9ShcC0AzMzMzMzMDQFyPwvUoXAlAZmZmZmZmBkBmZmZmZmYCQK5H4XoUrgVArkfhehSuBUBSuB6F61ETQKRwPQrXowRAmpmZmZmZA0AAAAAAAAAIQGZmZmZmZgZACtejcD0KB0AzMzMzMzMDQGZmZmZmZg5A\",\"dtype\":\"float64\",\"order\":\"little\",\"shape\":[183]}},\"selected\":{\"id\":\"1346\"},\"selection_policy\":{\"id\":\"1367\"}},\"id\":\"1345\",\"type\":\"ColumnDataSource\"},{\"attributes\":{\"margin\":[5,5,5,5],\"name\":\"HSpacer01156\",\"sizing_mode\":\"stretch_width\"},\"id\":\"1370\",\"type\":\"Spacer\"},{\"attributes\":{},\"id\":\"1320\",\"type\":\"LinearScale\"},{\"attributes\":{\"source\":{\"id\":\"1345\"}},\"id\":\"1352\",\"type\":\"CDSView\"},{\"attributes\":{},\"id\":\"1355\",\"type\":\"BasicTickFormatter\"},{\"attributes\":{\"end\":4.832428571428571,\"reset_end\":4.832428571428571,\"reset_start\":0.7175714285714285,\"start\":0.7175714285714285,\"tags\":[[[\"mobile_app_rating\",\"mobile_app_rating\",null]]]},\"id\":\"1312\",\"type\":\"Range1d\"},{\"attributes\":{},\"id\":\"1367\",\"type\":\"UnionRenderers\"},{\"attributes\":{\"callback\":null,\"renderers\":[{\"id\":\"1351\"}],\"tags\":[\"hv_created\"],\"tooltips\":[[\"mobile_app_rating\",\"@{mobile_app_rating}\"],[\"personal_banker_rating\",\"@{personal_banker_rating}\"]]},\"id\":\"1314\",\"type\":\"HoverTool\"},{\"attributes\":{\"tools\":[{\"id\":\"1314\"},{\"id\":\"1332\"},{\"id\":\"1333\"},{\"id\":\"1334\"},{\"id\":\"1335\"},{\"id\":\"1336\"}]},\"id\":\"1338\",\"type\":\"Toolbar\"},{\"attributes\":{\"coordinates\":null,\"group\":null,\"text_color\":\"black\",\"text_font_size\":\"12pt\"},\"id\":\"1316\",\"type\":\"Title\"},{\"attributes\":{\"fill_alpha\":{\"value\":0.1},\"fill_color\":{\"value\":\"#30a2da\"},\"hatch_alpha\":{\"value\":0.1},\"hatch_color\":{\"value\":\"#30a2da\"},\"line_alpha\":{\"value\":0.1},\"line_color\":{\"value\":\"#30a2da\"},\"size\":{\"value\":5.477225575051661},\"x\":{\"field\":\"mobile_app_rating\"},\"y\":{\"field\":\"personal_banker_rating\"}},\"id\":\"1349\",\"type\":\"Scatter\"},{\"attributes\":{\"below\":[{\"id\":\"1324\"}],\"center\":[{\"id\":\"1327\"},{\"id\":\"1331\"}],\"height\":300,\"left\":[{\"id\":\"1328\"}],\"margin\":[5,5,5,5],\"min_border_bottom\":10,\"min_border_left\":10,\"min_border_right\":10,\"min_border_top\":10,\"renderers\":[{\"id\":\"1351\"}],\"sizing_mode\":\"fixed\",\"title\":{\"id\":\"1316\"},\"toolbar\":{\"id\":\"1338\"},\"width\":700,\"x_range\":{\"id\":\"1312\"},\"x_scale\":{\"id\":\"1320\"},\"y_range\":{\"id\":\"1313\"},\"y_scale\":{\"id\":\"1322\"}},\"id\":\"1315\",\"subtype\":\"Figure\",\"type\":\"Plot\"},{\"attributes\":{\"axis_label\":\"mobile_app_rating\",\"coordinates\":null,\"formatter\":{\"id\":\"1355\"},\"group\":null,\"major_label_policy\":{\"id\":\"1356\"},\"ticker\":{\"id\":\"1325\"}},\"id\":\"1324\",\"type\":\"LinearAxis\"},{\"attributes\":{},\"id\":\"1325\",\"type\":\"BasicTicker\"},{\"attributes\":{\"margin\":[5,5,5,5],\"name\":\"HSpacer01155\",\"sizing_mode\":\"stretch_width\"},\"id\":\"1311\",\"type\":\"Spacer\"},{\"attributes\":{},\"id\":\"1359\",\"type\":\"AllLabels\"},{\"attributes\":{\"axis\":{\"id\":\"1324\"},\"coordinates\":null,\"grid_line_color\":null,\"group\":null,\"ticker\":null},\"id\":\"1327\",\"type\":\"Grid\"},{\"attributes\":{},\"id\":\"1333\",\"type\":\"PanTool\"},{\"attributes\":{\"axis_label\":\"personal_banker_rating\",\"coordinates\":null,\"formatter\":{\"id\":\"1358\"},\"group\":null,\"major_label_policy\":{\"id\":\"1359\"},\"ticker\":{\"id\":\"1329\"}},\"id\":\"1328\",\"type\":\"LinearAxis\"},{\"attributes\":{\"axis\":{\"id\":\"1328\"},\"coordinates\":null,\"dimension\":1,\"grid_line_color\":null,\"group\":null,\"ticker\":null},\"id\":\"1331\",\"type\":\"Grid\"},{\"attributes\":{},\"id\":\"1356\",\"type\":\"AllLabels\"},{\"attributes\":{},\"id\":\"1329\",\"type\":\"BasicTicker\"},{\"attributes\":{\"children\":[{\"id\":\"1311\"},{\"id\":\"1315\"},{\"id\":\"1370\"}],\"margin\":[0,0,0,0],\"name\":\"Row01151\",\"tags\":[\"embedded\"]},\"id\":\"1310\",\"type\":\"Row\"},{\"attributes\":{},\"id\":\"1334\",\"type\":\"WheelZoomTool\"},{\"attributes\":{},\"id\":\"1358\",\"type\":\"BasicTickFormatter\"},{\"attributes\":{},\"id\":\"1332\",\"type\":\"SaveTool\"},{\"attributes\":{\"overlay\":{\"id\":\"1337\"}},\"id\":\"1335\",\"type\":\"BoxZoomTool\"},{\"attributes\":{},\"id\":\"1346\",\"type\":\"Selection\"},{\"attributes\":{},\"id\":\"1336\",\"type\":\"ResetTool\"},{\"attributes\":{\"bottom_units\":\"screen\",\"coordinates\":null,\"fill_alpha\":0.5,\"fill_color\":\"lightgrey\",\"group\":null,\"left_units\":\"screen\",\"level\":\"overlay\",\"line_alpha\":1.0,\"line_color\":\"black\",\"line_dash\":[4,4],\"line_width\":2,\"right_units\":\"screen\",\"syncable\":false,\"top_units\":\"screen\"},\"id\":\"1337\",\"type\":\"BoxAnnotation\"}],\"root_ids\":[\"1310\"]},\"title\":\"Bokeh Application\",\"version\":\"2.4.3\"}};\n",
       "    var render_items = [{\"docid\":\"63864976-1187-4d9f-bb25-8c26995cf305\",\"root_ids\":[\"1310\"],\"roots\":{\"1310\":\"41b75e95-639e-4718-9ba3-46da44935cff\"}}];\n",
       "    root.Bokeh.embed.embed_items_notebook(docs_json, render_items);\n",
       "  }\n",
       "  if (root.Bokeh !== undefined && root.Bokeh.Panel !== undefined) {\n",
       "    embed_document(root);\n",
       "  } else {\n",
       "    var attempts = 0;\n",
       "    var timer = setInterval(function(root) {\n",
       "      if (root.Bokeh !== undefined && root.Bokeh.Panel !== undefined) {\n",
       "        clearInterval(timer);\n",
       "        embed_document(root);\n",
       "      } else if (document.readyState == \"complete\") {\n",
       "        attempts++;\n",
       "        if (attempts > 200) {\n",
       "          clearInterval(timer);\n",
       "          console.log(\"Bokeh: ERROR: Unable to run BokehJS code because BokehJS library is missing\");\n",
       "        }\n",
       "      }\n",
       "    }, 25, root)\n",
       "  }\n",
       "})(window);</script>"
      ],
      "text/plain": [
       ":Scatter   [mobile_app_rating]   (personal_banker_rating)"
      ]
     },
     "execution_count": 17,
     "metadata": {
      "application/vnd.holoviews_exec.v0+json": {
       "id": "1310"
      }
     },
     "output_type": "execute_result"
    }
   ],
   "source": [
    "# Visualize a scatter plot of the data\n",
    "service_ratings_df.hvplot.scatter(\n",
    "    x=\"mobile_app_rating\", \n",
    "    y=\"personal_banker_rating\"\n",
    ")"
   ]
  },
  {
   "cell_type": "markdown",
   "metadata": {},
   "source": [
    "## Run the k-means model with 3 clusters"
   ]
  },
  {
   "cell_type": "code",
   "execution_count": 18,
   "metadata": {},
   "outputs": [
    {
     "data": {
      "text/plain": [
       "KMeans(n_clusters=3, random_state=1)"
      ]
     },
     "execution_count": 18,
     "metadata": {},
     "output_type": "execute_result"
    }
   ],
   "source": [
    "# Create and initialize the K-means model instance for 3 clusters\n",
    "# Set the random_state variable to 1\n",
    "model = KMeans(n_clusters=3, random_state=1)\n",
    "# Print the model\n",
    "model"
   ]
  },
  {
   "cell_type": "code",
   "execution_count": 19,
   "metadata": {},
   "outputs": [
    {
     "data": {
      "text/plain": [
       "KMeans(n_clusters=3, random_state=1)"
      ]
     },
     "execution_count": 19,
     "metadata": {},
     "output_type": "execute_result"
    }
   ],
   "source": [
    "# Fit the data to the instance of the model\n",
    "model.fit(service_ratings_df)"
   ]
  },
  {
   "cell_type": "code",
   "execution_count": 22,
   "metadata": {},
   "outputs": [
    {
     "name": "stdout",
     "output_type": "stream",
     "text": [
      "[0 1 2 2 2 2 1 1 2 2 1 0 1 1 0 1 2 1 2 2 1 1 2 1 2 0 2 1 2 0 1 2 1 0 1 2 2\n",
      " 2 1 2 2 1 1 1 1 2 2 1 1 1 2 1 1 1 1 1 2 0 2 1 2 1 2 1 2 2 0 0 2 1 0 2 2 1\n",
      " 2 1 0 2 1 1 1 0 2 1 1 1 2 1 0 2 1 2 1 1 0 1 0 1 2 1 0 2 1 2 1 1 2 2 1 1 2\n",
      " 1 1 1 0 1 2 2 2 1 0 1 2 2 2 2 1 1 2 2 2 1 1 1 2 0 2 1 1 1 1 2 2 1 1 1 2 0\n",
      " 1 2 2 2 0 1 1 1 0 1 1 1 2 1 0 2 1 2 2 2 2 0 1 2 0 1 1 2 1 1 1 2 1 0 1]\n"
     ]
    }
   ],
   "source": [
    "# Make predictions about the data clusters using the trained model\n",
    "customer_segment3 = model.predict(service_ratings_df)\n",
    "\n",
    "# Print the predictions\n",
    "print(customer_segment3)"
   ]
  },
  {
   "cell_type": "code",
   "execution_count": 24,
   "metadata": {},
   "outputs": [
    {
     "data": {
      "text/html": [
       "<div>\n",
       "<style scoped>\n",
       "    .dataframe tbody tr th:only-of-type {\n",
       "        vertical-align: middle;\n",
       "    }\n",
       "\n",
       "    .dataframe tbody tr th {\n",
       "        vertical-align: top;\n",
       "    }\n",
       "\n",
       "    .dataframe thead th {\n",
       "        text-align: right;\n",
       "    }\n",
       "</style>\n",
       "<table border=\"1\" class=\"dataframe\">\n",
       "  <thead>\n",
       "    <tr style=\"text-align: right;\">\n",
       "      <th></th>\n",
       "      <th>mobile_app_rating</th>\n",
       "      <th>personal_banker_rating</th>\n",
       "      <th>customer_segment3</th>\n",
       "    </tr>\n",
       "  </thead>\n",
       "  <tbody>\n",
       "    <tr>\n",
       "      <th>0</th>\n",
       "      <td>3.50</td>\n",
       "      <td>2.40</td>\n",
       "      <td>0</td>\n",
       "    </tr>\n",
       "    <tr>\n",
       "      <th>1</th>\n",
       "      <td>3.65</td>\n",
       "      <td>3.14</td>\n",
       "      <td>1</td>\n",
       "    </tr>\n",
       "    <tr>\n",
       "      <th>2</th>\n",
       "      <td>2.90</td>\n",
       "      <td>2.75</td>\n",
       "      <td>2</td>\n",
       "    </tr>\n",
       "    <tr>\n",
       "      <th>3</th>\n",
       "      <td>2.93</td>\n",
       "      <td>3.36</td>\n",
       "      <td>2</td>\n",
       "    </tr>\n",
       "    <tr>\n",
       "      <th>4</th>\n",
       "      <td>2.89</td>\n",
       "      <td>2.62</td>\n",
       "      <td>2</td>\n",
       "    </tr>\n",
       "    <tr>\n",
       "      <th>...</th>\n",
       "      <td>...</td>\n",
       "      <td>...</td>\n",
       "      <td>...</td>\n",
       "    </tr>\n",
       "    <tr>\n",
       "      <th>178</th>\n",
       "      <td>3.44</td>\n",
       "      <td>3.00</td>\n",
       "      <td>1</td>\n",
       "    </tr>\n",
       "    <tr>\n",
       "      <th>179</th>\n",
       "      <td>2.40</td>\n",
       "      <td>2.80</td>\n",
       "      <td>2</td>\n",
       "    </tr>\n",
       "    <tr>\n",
       "      <th>180</th>\n",
       "      <td>3.25</td>\n",
       "      <td>2.88</td>\n",
       "      <td>1</td>\n",
       "    </tr>\n",
       "    <tr>\n",
       "      <th>181</th>\n",
       "      <td>3.50</td>\n",
       "      <td>2.40</td>\n",
       "      <td>0</td>\n",
       "    </tr>\n",
       "    <tr>\n",
       "      <th>182</th>\n",
       "      <td>3.59</td>\n",
       "      <td>3.80</td>\n",
       "      <td>1</td>\n",
       "    </tr>\n",
       "  </tbody>\n",
       "</table>\n",
       "<p>183 rows × 3 columns</p>\n",
       "</div>"
      ],
      "text/plain": [
       "     mobile_app_rating  personal_banker_rating  customer_segment3\n",
       "0                 3.50                    2.40                  0\n",
       "1                 3.65                    3.14                  1\n",
       "2                 2.90                    2.75                  2\n",
       "3                 2.93                    3.36                  2\n",
       "4                 2.89                    2.62                  2\n",
       "..                 ...                     ...                ...\n",
       "178               3.44                    3.00                  1\n",
       "179               2.40                    2.80                  2\n",
       "180               3.25                    2.88                  1\n",
       "181               3.50                    2.40                  0\n",
       "182               3.59                    3.80                  1\n",
       "\n",
       "[183 rows x 3 columns]"
      ]
     },
     "execution_count": 24,
     "metadata": {},
     "output_type": "execute_result"
    }
   ],
   "source": [
    "# Create a copy of the DataFrame and name it as service_ratings_predictions_df\n",
    "service_ratings_predictions_df = service_ratings_df.copy()\n",
    "\n",
    "# Add a column to the DataFrame that contains the customer_segment information\n",
    "service_ratings_predictions_df['customer_segment3'] = customer_segment3\n",
    "\n",
    "# Review the DataFrame\n",
    "service_ratings_predictions_df"
   ]
  },
  {
   "cell_type": "code",
   "execution_count": 25,
   "metadata": {},
   "outputs": [
    {
     "data": {
      "text/plain": [
       "Index(['mobile_app_rating', 'personal_banker_rating', 'customer_segment3'], dtype='object')"
      ]
     },
     "execution_count": 25,
     "metadata": {},
     "output_type": "execute_result"
    }
   ],
   "source": [
    "service_ratings_predictions_df.columns"
   ]
  },
  {
   "cell_type": "code",
   "execution_count": 27,
   "metadata": {},
   "outputs": [
    {
     "data": {},
     "metadata": {},
     "output_type": "display_data"
    },
    {
     "data": {
      "application/vnd.holoviews_exec.v0+json": "",
      "text/html": [
       "<div id='1422'>\n",
       "  <div class=\"bk-root\" id=\"4a5cc834-acc0-4412-8030-af87c287f96a\" data-root-id=\"1422\"></div>\n",
       "</div>\n",
       "<script type=\"application/javascript\">(function(root) {\n",
       "  function embed_document(root) {\n",
       "    var docs_json = {\"e7191c51-65fd-43a3-8804-56240e2ba8a0\":{\"defs\":[{\"extends\":null,\"module\":null,\"name\":\"ReactiveHTML1\",\"overrides\":[],\"properties\":[]},{\"extends\":null,\"module\":null,\"name\":\"FlexBox1\",\"overrides\":[],\"properties\":[{\"default\":\"flex-start\",\"kind\":null,\"name\":\"align_content\"},{\"default\":\"flex-start\",\"kind\":null,\"name\":\"align_items\"},{\"default\":\"row\",\"kind\":null,\"name\":\"flex_direction\"},{\"default\":\"wrap\",\"kind\":null,\"name\":\"flex_wrap\"},{\"default\":\"flex-start\",\"kind\":null,\"name\":\"justify_content\"}]},{\"extends\":null,\"module\":null,\"name\":\"GridStack1\",\"overrides\":[],\"properties\":[{\"default\":\"warn\",\"kind\":null,\"name\":\"mode\"},{\"default\":null,\"kind\":null,\"name\":\"ncols\"},{\"default\":null,\"kind\":null,\"name\":\"nrows\"},{\"default\":true,\"kind\":null,\"name\":\"allow_resize\"},{\"default\":true,\"kind\":null,\"name\":\"allow_drag\"},{\"default\":[],\"kind\":null,\"name\":\"state\"}]},{\"extends\":null,\"module\":null,\"name\":\"click1\",\"overrides\":[],\"properties\":[{\"default\":\"\",\"kind\":null,\"name\":\"terminal_output\"},{\"default\":\"\",\"kind\":null,\"name\":\"debug_name\"},{\"default\":0,\"kind\":null,\"name\":\"clears\"}]},{\"extends\":null,\"module\":null,\"name\":\"NotificationAreaBase1\",\"overrides\":[],\"properties\":[{\"default\":\"bottom-right\",\"kind\":null,\"name\":\"position\"},{\"default\":0,\"kind\":null,\"name\":\"_clear\"}]},{\"extends\":null,\"module\":null,\"name\":\"NotificationArea1\",\"overrides\":[],\"properties\":[{\"default\":[],\"kind\":null,\"name\":\"notifications\"},{\"default\":\"bottom-right\",\"kind\":null,\"name\":\"position\"},{\"default\":0,\"kind\":null,\"name\":\"_clear\"},{\"default\":[{\"background\":\"#ffc107\",\"icon\":{\"className\":\"fas fa-exclamation-triangle\",\"color\":\"white\",\"tagName\":\"i\"},\"type\":\"warning\"},{\"background\":\"#007bff\",\"icon\":{\"className\":\"fas fa-info-circle\",\"color\":\"white\",\"tagName\":\"i\"},\"type\":\"info\"}],\"kind\":null,\"name\":\"types\"}]},{\"extends\":null,\"module\":null,\"name\":\"Notification\",\"overrides\":[],\"properties\":[{\"default\":null,\"kind\":null,\"name\":\"background\"},{\"default\":3000,\"kind\":null,\"name\":\"duration\"},{\"default\":null,\"kind\":null,\"name\":\"icon\"},{\"default\":\"\",\"kind\":null,\"name\":\"message\"},{\"default\":null,\"kind\":null,\"name\":\"notification_type\"},{\"default\":false,\"kind\":null,\"name\":\"_destroyed\"}]},{\"extends\":null,\"module\":null,\"name\":\"TemplateActions1\",\"overrides\":[],\"properties\":[{\"default\":0,\"kind\":null,\"name\":\"open_modal\"},{\"default\":0,\"kind\":null,\"name\":\"close_modal\"}]},{\"extends\":null,\"module\":null,\"name\":\"MaterialTemplateActions1\",\"overrides\":[],\"properties\":[{\"default\":0,\"kind\":null,\"name\":\"open_modal\"},{\"default\":0,\"kind\":null,\"name\":\"close_modal\"}]}],\"roots\":{\"references\":[{\"attributes\":{\"axis_label\":\"personal_banker_rating\",\"coordinates\":null,\"formatter\":{\"id\":\"1463\"},\"group\":null,\"major_label_policy\":{\"id\":\"1464\"},\"ticker\":{\"id\":\"1443\"}},\"id\":\"1442\",\"type\":\"LinearAxis\"},{\"attributes\":{\"label\":{\"value\":\"1\"},\"renderers\":[{\"id\":\"1492\"}]},\"id\":\"1506\",\"type\":\"LegendItem\"},{\"attributes\":{\"axis\":{\"id\":\"1442\"},\"coordinates\":null,\"dimension\":1,\"grid_line_color\":null,\"group\":null,\"ticker\":null},\"id\":\"1445\",\"type\":\"Grid\"},{\"attributes\":{},\"id\":\"1439\",\"type\":\"BasicTicker\"},{\"attributes\":{},\"id\":\"1443\",\"type\":\"BasicTicker\"},{\"attributes\":{},\"id\":\"1461\",\"type\":\"AllLabels\"},{\"attributes\":{\"margin\":[5,5,5,5],\"name\":\"HSpacer01327\",\"sizing_mode\":\"stretch_width\"},\"id\":\"1423\",\"type\":\"Spacer\"},{\"attributes\":{},\"id\":\"1448\",\"type\":\"WheelZoomTool\"},{\"attributes\":{\"coordinates\":null,\"data_source\":{\"id\":\"1486\"},\"glyph\":{\"id\":\"1489\"},\"group\":null,\"hover_glyph\":null,\"muted_glyph\":{\"id\":\"1491\"},\"nonselection_glyph\":{\"id\":\"1490\"},\"selection_glyph\":{\"id\":\"1507\"},\"view\":{\"id\":\"1493\"}},\"id\":\"1492\",\"type\":\"GlyphRenderer\"},{\"attributes\":{},\"id\":\"1446\",\"type\":\"SaveTool\"},{\"attributes\":{},\"id\":\"1434\",\"type\":\"LinearScale\"},{\"attributes\":{\"overlay\":{\"id\":\"1451\"}},\"id\":\"1449\",\"type\":\"BoxZoomTool\"},{\"attributes\":{},\"id\":\"1463\",\"type\":\"BasicTickFormatter\"},{\"attributes\":{},\"id\":\"1450\",\"type\":\"ResetTool\"},{\"attributes\":{},\"id\":\"1527\",\"type\":\"UnionRenderers\"},{\"attributes\":{},\"id\":\"1464\",\"type\":\"AllLabels\"},{\"attributes\":{\"bottom_units\":\"screen\",\"coordinates\":null,\"fill_alpha\":0.5,\"fill_color\":\"lightgrey\",\"group\":null,\"left_units\":\"screen\",\"level\":\"overlay\",\"line_alpha\":1.0,\"line_color\":\"black\",\"line_dash\":[4,4],\"line_width\":2,\"right_units\":\"screen\",\"syncable\":false,\"top_units\":\"screen\"},\"id\":\"1451\",\"type\":\"BoxAnnotation\"},{\"attributes\":{\"fill_alpha\":{\"value\":0.1},\"fill_color\":{\"value\":\"#fc4f30\"},\"hatch_alpha\":{\"value\":0.1},\"hatch_color\":{\"value\":\"#fc4f30\"},\"line_alpha\":{\"value\":0.1},\"line_color\":{\"value\":\"#fc4f30\"},\"size\":{\"value\":5.477225575051661},\"x\":{\"field\":\"mobile_app_rating\"},\"y\":{\"field\":\"personal_banker_rating\"}},\"id\":\"1490\",\"type\":\"Scatter\"},{\"attributes\":{\"children\":[{\"id\":\"1423\"},{\"id\":\"1429\"},{\"id\":\"1546\"}],\"margin\":[0,0,0,0],\"name\":\"Row01323\",\"tags\":[\"embedded\"]},\"id\":\"1422\",\"type\":\"Row\"},{\"attributes\":{},\"id\":\"1480\",\"type\":\"UnionRenderers\"},{\"attributes\":{\"fill_alpha\":{\"value\":0.1},\"fill_color\":{\"value\":\"#30a2da\"},\"hatch_alpha\":{\"value\":0.1},\"hatch_color\":{\"value\":\"#30a2da\"},\"line_alpha\":{\"value\":0.1},\"line_color\":{\"value\":\"#30a2da\"},\"size\":{\"value\":5.477225575051661},\"x\":{\"field\":\"mobile_app_rating\"},\"y\":{\"field\":\"personal_banker_rating\"}},\"id\":\"1469\",\"type\":\"Scatter\"},{\"attributes\":{\"angle\":{\"value\":0.0},\"fill_alpha\":{\"value\":1.0},\"fill_color\":{\"value\":\"#fc4f30\"},\"hatch_alpha\":{\"value\":1.0},\"hatch_color\":{\"value\":\"#fc4f30\"},\"hatch_scale\":{\"value\":12.0},\"hatch_weight\":{\"value\":1.0},\"line_alpha\":{\"value\":1.0},\"line_cap\":{\"value\":\"butt\"},\"line_color\":{\"value\":\"#fc4f30\"},\"line_dash\":{\"value\":[]},\"line_dash_offset\":{\"value\":0},\"line_join\":{\"value\":\"bevel\"},\"line_width\":{\"value\":1},\"marker\":{\"value\":\"circle\"},\"size\":{\"value\":5.477225575051661},\"x\":{\"field\":\"mobile_app_rating\"},\"y\":{\"field\":\"personal_banker_rating\"}},\"id\":\"1507\",\"type\":\"Scatter\"},{\"attributes\":{},\"id\":\"1509\",\"type\":\"Selection\"},{\"attributes\":{\"label\":{\"value\":\"2\"},\"renderers\":[{\"id\":\"1514\"}]},\"id\":\"1530\",\"type\":\"LegendItem\"},{\"attributes\":{\"source\":{\"id\":\"1486\"}},\"id\":\"1493\",\"type\":\"CDSView\"},{\"attributes\":{},\"id\":\"1460\",\"type\":\"BasicTickFormatter\"},{\"attributes\":{\"fill_alpha\":{\"value\":0.2},\"fill_color\":{\"value\":\"#30a2da\"},\"hatch_alpha\":{\"value\":0.2},\"hatch_color\":{\"value\":\"#30a2da\"},\"line_alpha\":{\"value\":0.2},\"line_color\":{\"value\":\"#30a2da\"},\"size\":{\"value\":5.477225575051661},\"x\":{\"field\":\"mobile_app_rating\"},\"y\":{\"field\":\"personal_banker_rating\"}},\"id\":\"1470\",\"type\":\"Scatter\"},{\"attributes\":{},\"id\":\"1487\",\"type\":\"Selection\"},{\"attributes\":{\"end\":4.832428571428571,\"reset_end\":4.832428571428571,\"reset_start\":0.7175714285714285,\"start\":0.7175714285714285,\"tags\":[[[\"mobile_app_rating\",\"mobile_app_rating\",null]]]},\"id\":\"1424\",\"type\":\"Range1d\"},{\"attributes\":{\"coordinates\":null,\"data_source\":{\"id\":\"1508\"},\"glyph\":{\"id\":\"1511\"},\"group\":null,\"hover_glyph\":null,\"muted_glyph\":{\"id\":\"1513\"},\"nonselection_glyph\":{\"id\":\"1512\"},\"selection_glyph\":{\"id\":\"1531\"},\"view\":{\"id\":\"1515\"}},\"id\":\"1514\",\"type\":\"GlyphRenderer\"},{\"attributes\":{\"end\":5.263,\"reset_end\":5.263,\"reset_start\":0.06699999999999995,\"start\":0.06699999999999995,\"tags\":[[[\"personal_banker_rating\",\"personal_banker_rating\",null]]]},\"id\":\"1425\",\"type\":\"Range1d\"},{\"attributes\":{\"coordinates\":null,\"data_source\":{\"id\":\"1465\"},\"glyph\":{\"id\":\"1468\"},\"group\":null,\"hover_glyph\":null,\"muted_glyph\":{\"id\":\"1470\"},\"nonselection_glyph\":{\"id\":\"1469\"},\"selection_glyph\":{\"id\":\"1485\"},\"view\":{\"id\":\"1472\"}},\"id\":\"1471\",\"type\":\"GlyphRenderer\"},{\"attributes\":{\"tools\":[{\"id\":\"1426\"},{\"id\":\"1446\"},{\"id\":\"1447\"},{\"id\":\"1448\"},{\"id\":\"1449\"},{\"id\":\"1450\"}]},\"id\":\"1452\",\"type\":\"Toolbar\"},{\"attributes\":{\"source\":{\"id\":\"1465\"}},\"id\":\"1472\",\"type\":\"CDSView\"},{\"attributes\":{\"click_policy\":\"mute\",\"coordinates\":null,\"group\":null,\"items\":[{\"id\":\"1484\"},{\"id\":\"1506\"},{\"id\":\"1530\"}],\"location\":[0,0],\"title\":\"customer_segment3\"},\"id\":\"1483\",\"type\":\"Legend\"},{\"attributes\":{\"fill_color\":{\"value\":\"#30a2da\"},\"hatch_color\":{\"value\":\"#30a2da\"},\"line_color\":{\"value\":\"#30a2da\"},\"size\":{\"value\":5.477225575051661},\"x\":{\"field\":\"mobile_app_rating\"},\"y\":{\"field\":\"personal_banker_rating\"}},\"id\":\"1468\",\"type\":\"Scatter\"},{\"attributes\":{\"fill_alpha\":{\"value\":0.2},\"fill_color\":{\"value\":\"#e5ae38\"},\"hatch_alpha\":{\"value\":0.2},\"hatch_color\":{\"value\":\"#e5ae38\"},\"line_alpha\":{\"value\":0.2},\"line_color\":{\"value\":\"#e5ae38\"},\"size\":{\"value\":5.477225575051661},\"x\":{\"field\":\"mobile_app_rating\"},\"y\":{\"field\":\"personal_banker_rating\"}},\"id\":\"1513\",\"type\":\"Scatter\"},{\"attributes\":{\"label\":{\"value\":\"0\"},\"renderers\":[{\"id\":\"1471\"}]},\"id\":\"1484\",\"type\":\"LegendItem\"},{\"attributes\":{\"angle\":{\"value\":0.0},\"fill_alpha\":{\"value\":1.0},\"fill_color\":{\"value\":\"#30a2da\"},\"hatch_alpha\":{\"value\":1.0},\"hatch_color\":{\"value\":\"#30a2da\"},\"hatch_scale\":{\"value\":12.0},\"hatch_weight\":{\"value\":1.0},\"line_alpha\":{\"value\":1.0},\"line_cap\":{\"value\":\"butt\"},\"line_color\":{\"value\":\"#30a2da\"},\"line_dash\":{\"value\":[]},\"line_dash_offset\":{\"value\":0},\"line_join\":{\"value\":\"bevel\"},\"line_width\":{\"value\":1},\"marker\":{\"value\":\"circle\"},\"size\":{\"value\":5.477225575051661},\"x\":{\"field\":\"mobile_app_rating\"},\"y\":{\"field\":\"personal_banker_rating\"}},\"id\":\"1485\",\"type\":\"Scatter\"},{\"attributes\":{\"margin\":[5,5,5,5],\"name\":\"HSpacer01328\",\"sizing_mode\":\"stretch_width\"},\"id\":\"1546\",\"type\":\"Spacer\"},{\"attributes\":{\"callback\":null,\"renderers\":[{\"id\":\"1471\"},{\"id\":\"1492\"},{\"id\":\"1514\"}],\"tags\":[\"hv_created\"],\"tooltips\":[[\"customer_segment3\",\"@{customer_segment3}\"],[\"mobile_app_rating\",\"@{mobile_app_rating}\"],[\"personal_banker_rating\",\"@{personal_banker_rating}\"]]},\"id\":\"1426\",\"type\":\"HoverTool\"},{\"attributes\":{\"data\":{\"customer_segment3\":[1,1,1,1,1,1,1,1,1,1,1,1,1,1,1,1,1,1,1,1,1,1,1,1,1,1,1,1,1,1,1,1,1,1,1,1,1,1,1,1,1,1,1,1,1,1,1,1,1,1,1,1,1,1,1,1,1,1,1,1,1,1,1,1,1,1,1,1,1,1,1,1,1,1,1,1,1,1,1,1,1,1,1,1,1,1,1],\"mobile_app_rating\":{\"__ndarray__\":\"MzMzMzMzDUB7FK5H4XoKQBSuR+F6FA5AZmZmZmZmCkAAAAAAAAARQKRwPQrXowpAAAAAAAAADkBI4XoUrkcLQFK4HoXrURFAXI/C9ShcDUBxPQrXo3ANQM3MzMzMzApAcT0K16NwDUDhehSuR+EQQB+F61G4HgtAAAAAAAAAEkA9CtejcD0SQFyPwvUoXBBAUrgehetRCkAfhetRuB4PQAAAAAAAABJAMzMzMzMzC0CF61G4HoULQOF6FK5H4Q5APQrXo3A9DkBxPQrXo3ANQAAAAAAAAApA9ihcj8L1DEAUrkfhehQKQD0K16NwPQxAzczMzMzMCkApXI/C9SgKQB+F61G4Hg1AAAAAAAAADEBI4XoUrkcLQOxRuB6F6wtAhetRuB6FC0CamZmZmZkNQAAAAAAAABBApHA9CtejCkCuR+F6FK4SQAAAAAAAABJAUrgehetRCkAAAAAAAAAMQI/C9ShcjxBAZmZmZmZmDECuR+F6FK4JQDMzMzMzMwtAmpmZmZmZDUBI4XoUrkcPQPYoXI/C9QpAAAAAAAAADkDXo3A9CtcJQEjhehSuRwtAZmZmZmZmDECuR+F6FK4PQFyPwvUoXA9Aw/UoXI/CCUCkcD0K16MKQI/C9Shcjw5AXI/C9ShcDUAAAAAAAAAMQMP1KFyPwgtAH4XrUbgeC0AAAAAAAAAMQOxRuB6F6wlArkfhehSuC0C4HoXrUbgKQAAAAAAAAAxAuB6F61G4CkDhehSuR+EOQD0K16NwPRBAH4XrUbgeDUC4HoXrUbgMQOF6FK5H4QpAzczMzMzMEEB7FK5H4XoOQMP1KFyPwhBAXI/C9ShcDUBSuB6F61ESQAAAAAAAAApACtejcD0KC0AK16NwPQoNQK5H4XoUrgtAhetRuB6FC0AAAAAAAAAKQLgehetRuAxA\",\"dtype\":\"float64\",\"order\":\"little\",\"shape\":[87]},\"personal_banker_rating\":{\"__ndarray__\":\"H4XrUbgeCUD2KFyPwvUIQI/C9ShcjwhApHA9CtejBkAAAAAAAAAIQJqZmZmZmQVA9ihcj8L1CEC4HoXrUbgIQAAAAAAAAARAKVyPwvUoBkBxPQrXo3AHQFyPwvUoXAlAH4XrUbgeCUAAAAAAAAAIQHE9CtejcAlAZmZmZmZmBEBcj8L1KFwJQAAAAAAAAARAAAAAAAAACECkcD0K16MGQAAAAAAAAAhAAAAAAAAACEBcj8L1KFwJQAAAAAAAAARAAAAAAAAACECF61G4HoUJQFyPwvUoXAVAZmZmZmZmBkDD9Shcj8IHQM3MzMzMzAZApHA9CtejBkA9CtejcD0IQAAAAAAAAAhAAAAAAAAACEAK16NwPQoFQIXrUbgehQlAAAAAAAAACEAAAAAAAAAIQKRwPQrXowZAAAAAAAAABEAzMzMzMzMHQFyPwvUoXAlAzczMzMzMBkCkcD0K16MGQM3MzMzMzAZAZmZmZmZmBkD2KFyPwvUEQKRwPQrXowhAAAAAAAAABEAAAAAAAAAEQIXrUbgehQlAAAAAAAAACEAAAAAAAAAEQDMzMzMzMwdAAAAAAAAACEAAAAAAAAAIQArXo3A9CglAuB6F61G4BkBcj8L1KFwHQAAAAAAAAAhAAAAAAAAACEAAAAAAAAAIQFyPwvUoXAVAMzMzMzMzB0Bcj8L1KFwJQM3MzMzMzAhAAAAAAAAABkApXI/C9SgIQB+F61G4HgdAexSuR+F6BkAAAAAAAAAIQEjhehSuRwVAXI/C9ShcBUAAAAAAAAAIQI/C9ShcjwhAXI/C9ShcCUC4HoXrUbgIQDMzMzMzMwdAAAAAAAAACEBcj8L1KFwJQK5H4XoUrgVArkfhehSuBUCkcD0K16MEQJqZmZmZmQNAAAAAAAAACEAK16NwPQoHQGZmZmZmZg5A\",\"dtype\":\"float64\",\"order\":\"little\",\"shape\":[87]}},\"selected\":{\"id\":\"1487\"},\"selection_policy\":{\"id\":\"1503\"}},\"id\":\"1486\",\"type\":\"ColumnDataSource\"},{\"attributes\":{},\"id\":\"1436\",\"type\":\"LinearScale\"},{\"attributes\":{\"data\":{\"customer_segment3\":[2,2,2,2,2,2,2,2,2,2,2,2,2,2,2,2,2,2,2,2,2,2,2,2,2,2,2,2,2,2,2,2,2,2,2,2,2,2,2,2,2,2,2,2,2,2,2,2,2,2,2,2,2,2,2,2,2,2,2,2,2,2,2,2,2,2,2,2,2,2],\"mobile_app_rating\":{\"__ndarray__\":\"MzMzMzMzB0BxPQrXo3AHQB+F61G4HgdA4XoUrkfhBEAAAAAAAAAIQClcj8L1KOw/AAAAAAAABkBxPQrXo3AHQKRwPQrXowJAAAAAAAAACED2KFyPwvUGQAAAAAAAAARAXI/C9ShcAUC4HoXrUbgIQFyPwvUoXANAAAAAAAAACEDNzMzMzMwEQHE9CtejcAdAH4XrUbgeCUBI4XoUrkcHQAAAAAAAAAhAexSuR+F6CEAzMzMzMzMHQArXo3A9CgdAhetRuB6FA0CkcD0K16MGQFyPwvUoXAdAPQrXo3A9BkAfhetRuB4DQAAAAAAAAABAXI/C9ShcBUAfhetRuB4HQHsUrkfheghAAAAAAAAAAkAAAAAAAADwPwAAAAAAAAZApHA9CtejBED2KFyPwvUEQKRwPQrXowhA4XoUrkfhBkD2KFyPwvUGQAAAAAAAAABAj8L1KFyPCEBmZmZmZmYCQEjhehSuR/k/MzMzMzMzB0DNzMzMzMwIQFK4HoXrUQhAj8L1KFyPBEDhehSuR+EGQKRwPQrXowZAj8L1KFyPBkCkcD0K16MGQI/C9ShcjwhAAAAAAAAAAEApXI/C9SgIQHE9CtejcAdApHA9CtejAkAAAAAAAAAIQAAAAAAAAPw/AAAAAAAABkBSuB6F61EIQHsUrkfheghAUrgehetRCEBmZmZmZmYGQAAAAAAAAAhASOF6FK5HBUAAAAAAAAAIQAAAAAAAAABAMzMzMzMzA0A=\",\"dtype\":\"float64\",\"order\":\"little\",\"shape\":[70]},\"personal_banker_rating\":{\"__ndarray__\":\"AAAAAAAABkDhehSuR+EKQPYoXI/C9QRAFK5H4XoUBEBcj8L1KFwJQAAAAAAAAAhAMzMzMzMzBUBxPQrXo3ALQMP1KFyPwgVAH4XrUbgeB0ApXI/C9SgIQD0K16NwPRBAAAAAAAAACEAAAAAAAAAGQNejcD0K1wdAXI/C9ShcBUCPwvUoXI8EQLgehetRuAxAKVyPwvUoCEDsUbgehesHQAAAAAAAAARAUrgehetRCEC4HoXrUbgGQKRwPQrXowpAMzMzMzMzB0AAAAAAAAAIQI/C9ShcjwhAAAAAAAAACEC4HoXrUbgEQAAAAAAAAA5AAAAAAAAABkBmZmZmZmYOQM3MzMzMzAZAAAAAAAAACkAAAAAAAAASQNejcD0K1xBAAAAAAAAABEAAAAAAAAAIQMP1KFyPwgNArkfhehSuA0Bcj8L1KFwNQHsUrkfhegxAcT0K16NwBUAAAAAAAAAMQOF6FK5H4QZAAAAAAAAABEDhehSuR+EGQOF6FK5H4QhAZmZmZmZmAEDD9Shcj8IFQHE9CtejcAVAFK5H4XoUBkAK16NwPQoDQHE9CtejcAdAXI/C9ShcBUDNzMzMzMwIQGZmZmZmZgpAAAAAAAAACECPwvUoXI8EQAAAAAAAABBAXI/C9ShcCUBcj8L1KFwFQM3MzMzMzARACtejcD0KB0CF61G4HoUFQFK4HoXrUQZAXI/C9ShcC0BmZmZmZmYGQFK4HoXrURNAZmZmZmZmBkA=\",\"dtype\":\"float64\",\"order\":\"little\",\"shape\":[70]}},\"selected\":{\"id\":\"1509\"},\"selection_policy\":{\"id\":\"1527\"}},\"id\":\"1508\",\"type\":\"ColumnDataSource\"},{\"attributes\":{\"source\":{\"id\":\"1508\"}},\"id\":\"1515\",\"type\":\"CDSView\"},{\"attributes\":{\"angle\":{\"value\":0.0},\"fill_alpha\":{\"value\":1.0},\"fill_color\":{\"value\":\"#e5ae38\"},\"hatch_alpha\":{\"value\":1.0},\"hatch_color\":{\"value\":\"#e5ae38\"},\"hatch_scale\":{\"value\":12.0},\"hatch_weight\":{\"value\":1.0},\"line_alpha\":{\"value\":1.0},\"line_cap\":{\"value\":\"butt\"},\"line_color\":{\"value\":\"#e5ae38\"},\"line_dash\":{\"value\":[]},\"line_dash_offset\":{\"value\":0},\"line_join\":{\"value\":\"bevel\"},\"line_width\":{\"value\":1},\"marker\":{\"value\":\"circle\"},\"size\":{\"value\":5.477225575051661},\"x\":{\"field\":\"mobile_app_rating\"},\"y\":{\"field\":\"personal_banker_rating\"}},\"id\":\"1531\",\"type\":\"Scatter\"},{\"attributes\":{},\"id\":\"1503\",\"type\":\"UnionRenderers\"},{\"attributes\":{},\"id\":\"1466\",\"type\":\"Selection\"},{\"attributes\":{\"below\":[{\"id\":\"1438\"}],\"center\":[{\"id\":\"1441\"},{\"id\":\"1445\"}],\"height\":300,\"left\":[{\"id\":\"1442\"}],\"margin\":[5,5,5,5],\"min_border_bottom\":10,\"min_border_left\":10,\"min_border_right\":10,\"min_border_top\":10,\"renderers\":[{\"id\":\"1471\"},{\"id\":\"1492\"},{\"id\":\"1514\"}],\"right\":[{\"id\":\"1483\"}],\"sizing_mode\":\"fixed\",\"title\":{\"id\":\"1430\"},\"toolbar\":{\"id\":\"1452\"},\"width\":700,\"x_range\":{\"id\":\"1424\"},\"x_scale\":{\"id\":\"1434\"},\"y_range\":{\"id\":\"1425\"},\"y_scale\":{\"id\":\"1436\"}},\"id\":\"1429\",\"subtype\":\"Figure\",\"type\":\"Plot\"},{\"attributes\":{\"coordinates\":null,\"group\":null,\"text_color\":\"black\",\"text_font_size\":\"12pt\"},\"id\":\"1430\",\"type\":\"Title\"},{\"attributes\":{\"fill_color\":{\"value\":\"#fc4f30\"},\"hatch_color\":{\"value\":\"#fc4f30\"},\"line_color\":{\"value\":\"#fc4f30\"},\"size\":{\"value\":5.477225575051661},\"x\":{\"field\":\"mobile_app_rating\"},\"y\":{\"field\":\"personal_banker_rating\"}},\"id\":\"1489\",\"type\":\"Scatter\"},{\"attributes\":{\"fill_alpha\":{\"value\":0.1},\"fill_color\":{\"value\":\"#e5ae38\"},\"hatch_alpha\":{\"value\":0.1},\"hatch_color\":{\"value\":\"#e5ae38\"},\"line_alpha\":{\"value\":0.1},\"line_color\":{\"value\":\"#e5ae38\"},\"size\":{\"value\":5.477225575051661},\"x\":{\"field\":\"mobile_app_rating\"},\"y\":{\"field\":\"personal_banker_rating\"}},\"id\":\"1512\",\"type\":\"Scatter\"},{\"attributes\":{\"fill_alpha\":{\"value\":0.2},\"fill_color\":{\"value\":\"#fc4f30\"},\"hatch_alpha\":{\"value\":0.2},\"hatch_color\":{\"value\":\"#fc4f30\"},\"line_alpha\":{\"value\":0.2},\"line_color\":{\"value\":\"#fc4f30\"},\"size\":{\"value\":5.477225575051661},\"x\":{\"field\":\"mobile_app_rating\"},\"y\":{\"field\":\"personal_banker_rating\"}},\"id\":\"1491\",\"type\":\"Scatter\"},{\"attributes\":{\"axis_label\":\"mobile_app_rating\",\"coordinates\":null,\"formatter\":{\"id\":\"1460\"},\"group\":null,\"major_label_policy\":{\"id\":\"1461\"},\"ticker\":{\"id\":\"1439\"}},\"id\":\"1438\",\"type\":\"LinearAxis\"},{\"attributes\":{\"fill_color\":{\"value\":\"#e5ae38\"},\"hatch_color\":{\"value\":\"#e5ae38\"},\"line_color\":{\"value\":\"#e5ae38\"},\"size\":{\"value\":5.477225575051661},\"x\":{\"field\":\"mobile_app_rating\"},\"y\":{\"field\":\"personal_banker_rating\"}},\"id\":\"1511\",\"type\":\"Scatter\"},{\"attributes\":{},\"id\":\"1447\",\"type\":\"PanTool\"},{\"attributes\":{\"data\":{\"customer_segment3\":[0,0,0,0,0,0,0,0,0,0,0,0,0,0,0,0,0,0,0,0,0,0,0,0,0,0],\"mobile_app_rating\":{\"__ndarray__\":\"AAAAAAAADEBcj8L1KFwHQK5H4XoUrg9AexSuR+F6DkC4HoXrUbgQQDMzMzMzMwtAmpmZmZmZCUBxPQrXo3ALQFyPwvUoXA1AAAAAAAAAEED2KFyPwvUMQHE9CtejcBBAMzMzMzMzD0AAAAAAAAAOQAAAAAAAABBA7FG4HoXrDUCamZmZmZkJQAAAAAAAAAxAH4XrUbgeC0CamZmZmZkJQBSuR+F6FBFAhetRuB6FCUCuR+F6FK4NQAAAAAAAABBAAAAAAAAADEAAAAAAAAAMQA==\",\"dtype\":\"float64\",\"order\":\"little\",\"shape\":[26]},\"personal_banker_rating\":{\"__ndarray__\":\"MzMzMzMzA0Bcj8L1KFwBQAAAAAAAAABACtejcD0KA0AAAAAAAADgPwAAAAAAAABAAAAAAAAAAEAAAAAAAADwPwAAAAAAAABAAAAAAAAAAEAAAAAAAAAAQAAAAAAAAABAAAAAAAAA4D/2KFyPwvX4PwAAAAAAAABAMzMzMzMzA0Bcj8L1KFwBQKRwPQrXowJA9ihcj8L1/D+kcD0K16MCQAAAAAAAAABASOF6FK5H/T9cj8L1KFwBQDMzMzMzMwNAZmZmZmZmAkAzMzMzMzMDQA==\",\"dtype\":\"float64\",\"order\":\"little\",\"shape\":[26]}},\"selected\":{\"id\":\"1466\"},\"selection_policy\":{\"id\":\"1480\"}},\"id\":\"1465\",\"type\":\"ColumnDataSource\"},{\"attributes\":{\"axis\":{\"id\":\"1438\"},\"coordinates\":null,\"grid_line_color\":null,\"group\":null,\"ticker\":null},\"id\":\"1441\",\"type\":\"Grid\"}],\"root_ids\":[\"1422\"]},\"title\":\"Bokeh Application\",\"version\":\"2.4.3\"}};\n",
       "    var render_items = [{\"docid\":\"e7191c51-65fd-43a3-8804-56240e2ba8a0\",\"root_ids\":[\"1422\"],\"roots\":{\"1422\":\"4a5cc834-acc0-4412-8030-af87c287f96a\"}}];\n",
       "    root.Bokeh.embed.embed_items_notebook(docs_json, render_items);\n",
       "  }\n",
       "  if (root.Bokeh !== undefined && root.Bokeh.Panel !== undefined) {\n",
       "    embed_document(root);\n",
       "  } else {\n",
       "    var attempts = 0;\n",
       "    var timer = setInterval(function(root) {\n",
       "      if (root.Bokeh !== undefined && root.Bokeh.Panel !== undefined) {\n",
       "        clearInterval(timer);\n",
       "        embed_document(root);\n",
       "      } else if (document.readyState == \"complete\") {\n",
       "        attempts++;\n",
       "        if (attempts > 200) {\n",
       "          clearInterval(timer);\n",
       "          console.log(\"Bokeh: ERROR: Unable to run BokehJS code because BokehJS library is missing\");\n",
       "        }\n",
       "      }\n",
       "    }, 25, root)\n",
       "  }\n",
       "})(window);</script>"
      ],
      "text/plain": [
       ":NdOverlay   [customer_segment3]\n",
       "   :Scatter   [mobile_app_rating]   (personal_banker_rating)"
      ]
     },
     "execution_count": 27,
     "metadata": {
      "application/vnd.holoviews_exec.v0+json": {
       "id": "1422"
      }
     },
     "output_type": "execute_result"
    }
   ],
   "source": [
    "# Plot the data points based on the customer rating\n",
    "service_ratings_predictions_df.hvplot.scatter(\n",
    "    x='mobile_app_rating',\n",
    "    y='personal_banker_rating',\n",
    "    by='customer_segment3'\n",
    "\n",
    ")"
   ]
  },
  {
   "cell_type": "markdown",
   "metadata": {},
   "source": [
    "## Run the k-means model with 4 clusters"
   ]
  },
  {
   "cell_type": "code",
   "execution_count": 28,
   "metadata": {},
   "outputs": [
    {
     "data": {
      "text/plain": [
       "KMeans(n_clusters=4, random_state=1)"
      ]
     },
     "execution_count": 28,
     "metadata": {},
     "output_type": "execute_result"
    }
   ],
   "source": [
    "# Create and initialize the K-means model instance for 4 clusters\n",
    "model = KMeans(n_clusters=4, random_state=1)\n",
    "\n",
    "# Print the model\n",
    "model"
   ]
  },
  {
   "cell_type": "code",
   "execution_count": 29,
   "metadata": {},
   "outputs": [
    {
     "data": {
      "text/plain": [
       "KMeans(n_clusters=4, random_state=1)"
      ]
     },
     "execution_count": 29,
     "metadata": {},
     "output_type": "execute_result"
    }
   ],
   "source": [
    "# Fit the data to the instance of the model\n",
    "model.fit(service_ratings_df)"
   ]
  },
  {
   "cell_type": "code",
   "execution_count": 30,
   "metadata": {},
   "outputs": [
    {
     "name": "stdout",
     "output_type": "stream",
     "text": [
      "[3 1 0 0 0 0 0 1 0 2 0 0 1 0 3 1 0 1 0 0 1 1 0 1 0 3 2 1 2 3 1 0 1 3 1 0 0\n",
      " 0 1 0 0 1 1 0 1 0 0 1 1 1 0 1 1 1 0 1 0 3 0 0 0 1 0 0 0 0 3 3 0 0 3 2 0 1\n",
      " 2 1 3 0 1 1 1 3 2 1 1 0 2 1 3 2 1 0 0 1 3 1 3 1 0 0 3 0 1 0 1 1 2 2 1 1 0\n",
      " 0 1 1 3 1 2 2 0 1 3 0 0 0 0 0 0 1 0 0 0 1 1 1 0 3 0 1 1 0 1 0 0 1 1 0 0 0\n",
      " 1 0 2 0 3 1 1 1 3 1 1 1 0 1 3 0 1 0 0 0 2 3 1 0 3 0 0 2 1 3 1 0 0 3 1]\n"
     ]
    }
   ],
   "source": [
    "# Make predictions about the data clusters using the trained model\n",
    "customer_segment4 = model.predict(service_ratings_df)\n",
    "\n",
    "# Print the predictions\n",
    "print(customer_segment4)"
   ]
  },
  {
   "cell_type": "code",
   "execution_count": 31,
   "metadata": {},
   "outputs": [
    {
     "data": {
      "text/html": [
       "<div>\n",
       "<style scoped>\n",
       "    .dataframe tbody tr th:only-of-type {\n",
       "        vertical-align: middle;\n",
       "    }\n",
       "\n",
       "    .dataframe tbody tr th {\n",
       "        vertical-align: top;\n",
       "    }\n",
       "\n",
       "    .dataframe thead th {\n",
       "        text-align: right;\n",
       "    }\n",
       "</style>\n",
       "<table border=\"1\" class=\"dataframe\">\n",
       "  <thead>\n",
       "    <tr style=\"text-align: right;\">\n",
       "      <th></th>\n",
       "      <th>mobile_app_rating</th>\n",
       "      <th>personal_banker_rating</th>\n",
       "      <th>customer_segment3</th>\n",
       "      <th>customer_segment4</th>\n",
       "    </tr>\n",
       "  </thead>\n",
       "  <tbody>\n",
       "    <tr>\n",
       "      <th>0</th>\n",
       "      <td>3.50</td>\n",
       "      <td>2.40</td>\n",
       "      <td>0</td>\n",
       "      <td>3</td>\n",
       "    </tr>\n",
       "    <tr>\n",
       "      <th>1</th>\n",
       "      <td>3.65</td>\n",
       "      <td>3.14</td>\n",
       "      <td>1</td>\n",
       "      <td>1</td>\n",
       "    </tr>\n",
       "    <tr>\n",
       "      <th>2</th>\n",
       "      <td>2.90</td>\n",
       "      <td>2.75</td>\n",
       "      <td>2</td>\n",
       "      <td>0</td>\n",
       "    </tr>\n",
       "    <tr>\n",
       "      <th>3</th>\n",
       "      <td>2.93</td>\n",
       "      <td>3.36</td>\n",
       "      <td>2</td>\n",
       "      <td>0</td>\n",
       "    </tr>\n",
       "    <tr>\n",
       "      <th>4</th>\n",
       "      <td>2.89</td>\n",
       "      <td>2.62</td>\n",
       "      <td>2</td>\n",
       "      <td>0</td>\n",
       "    </tr>\n",
       "    <tr>\n",
       "      <th>...</th>\n",
       "      <td>...</td>\n",
       "      <td>...</td>\n",
       "      <td>...</td>\n",
       "      <td>...</td>\n",
       "    </tr>\n",
       "    <tr>\n",
       "      <th>178</th>\n",
       "      <td>3.44</td>\n",
       "      <td>3.00</td>\n",
       "      <td>1</td>\n",
       "      <td>1</td>\n",
       "    </tr>\n",
       "    <tr>\n",
       "      <th>179</th>\n",
       "      <td>2.40</td>\n",
       "      <td>2.80</td>\n",
       "      <td>2</td>\n",
       "      <td>0</td>\n",
       "    </tr>\n",
       "    <tr>\n",
       "      <th>180</th>\n",
       "      <td>3.25</td>\n",
       "      <td>2.88</td>\n",
       "      <td>1</td>\n",
       "      <td>0</td>\n",
       "    </tr>\n",
       "    <tr>\n",
       "      <th>181</th>\n",
       "      <td>3.50</td>\n",
       "      <td>2.40</td>\n",
       "      <td>0</td>\n",
       "      <td>3</td>\n",
       "    </tr>\n",
       "    <tr>\n",
       "      <th>182</th>\n",
       "      <td>3.59</td>\n",
       "      <td>3.80</td>\n",
       "      <td>1</td>\n",
       "      <td>1</td>\n",
       "    </tr>\n",
       "  </tbody>\n",
       "</table>\n",
       "<p>183 rows × 4 columns</p>\n",
       "</div>"
      ],
      "text/plain": [
       "     mobile_app_rating  personal_banker_rating  customer_segment3  \\\n",
       "0                 3.50                    2.40                  0   \n",
       "1                 3.65                    3.14                  1   \n",
       "2                 2.90                    2.75                  2   \n",
       "3                 2.93                    3.36                  2   \n",
       "4                 2.89                    2.62                  2   \n",
       "..                 ...                     ...                ...   \n",
       "178               3.44                    3.00                  1   \n",
       "179               2.40                    2.80                  2   \n",
       "180               3.25                    2.88                  1   \n",
       "181               3.50                    2.40                  0   \n",
       "182               3.59                    3.80                  1   \n",
       "\n",
       "     customer_segment4  \n",
       "0                    3  \n",
       "1                    1  \n",
       "2                    0  \n",
       "3                    0  \n",
       "4                    0  \n",
       "..                 ...  \n",
       "178                  1  \n",
       "179                  0  \n",
       "180                  0  \n",
       "181                  3  \n",
       "182                  1  \n",
       "\n",
       "[183 rows x 4 columns]"
      ]
     },
     "execution_count": 31,
     "metadata": {},
     "output_type": "execute_result"
    }
   ],
   "source": [
    "# Add a column to the service_ratings_predictions_df DataFrame that contains the customer_segment information\n",
    "service_ratings_predictions_df['customer_segment4'] = customer_segment4\n",
    "\n",
    "# Review the DataFrame\n",
    "service_ratings_predictions_df"
   ]
  },
  {
   "cell_type": "code",
   "execution_count": 32,
   "metadata": {},
   "outputs": [
    {
     "data": {
      "text/plain": [
       "Index(['mobile_app_rating', 'personal_banker_rating', 'customer_segment3',\n",
       "       'customer_segment4'],\n",
       "      dtype='object')"
      ]
     },
     "execution_count": 32,
     "metadata": {},
     "output_type": "execute_result"
    }
   ],
   "source": [
    "service_ratings_predictions_df.columns"
   ]
  },
  {
   "cell_type": "code",
   "execution_count": 35,
   "metadata": {},
   "outputs": [
    {
     "data": {},
     "metadata": {},
     "output_type": "display_data"
    },
    {
     "data": {
      "application/vnd.holoviews_exec.v0+json": "",
      "text/html": [
       "<div id='1618'>\n",
       "  <div class=\"bk-root\" id=\"38f067f6-2287-431f-b35d-5c2dd79e49f5\" data-root-id=\"1618\"></div>\n",
       "</div>\n",
       "<script type=\"application/javascript\">(function(root) {\n",
       "  function embed_document(root) {\n",
       "    var docs_json = {\"c431f90b-a0d9-4d75-9dc9-f42c18c52d4d\":{\"defs\":[{\"extends\":null,\"module\":null,\"name\":\"ReactiveHTML1\",\"overrides\":[],\"properties\":[]},{\"extends\":null,\"module\":null,\"name\":\"FlexBox1\",\"overrides\":[],\"properties\":[{\"default\":\"flex-start\",\"kind\":null,\"name\":\"align_content\"},{\"default\":\"flex-start\",\"kind\":null,\"name\":\"align_items\"},{\"default\":\"row\",\"kind\":null,\"name\":\"flex_direction\"},{\"default\":\"wrap\",\"kind\":null,\"name\":\"flex_wrap\"},{\"default\":\"flex-start\",\"kind\":null,\"name\":\"justify_content\"}]},{\"extends\":null,\"module\":null,\"name\":\"GridStack1\",\"overrides\":[],\"properties\":[{\"default\":\"warn\",\"kind\":null,\"name\":\"mode\"},{\"default\":null,\"kind\":null,\"name\":\"ncols\"},{\"default\":null,\"kind\":null,\"name\":\"nrows\"},{\"default\":true,\"kind\":null,\"name\":\"allow_resize\"},{\"default\":true,\"kind\":null,\"name\":\"allow_drag\"},{\"default\":[],\"kind\":null,\"name\":\"state\"}]},{\"extends\":null,\"module\":null,\"name\":\"click1\",\"overrides\":[],\"properties\":[{\"default\":\"\",\"kind\":null,\"name\":\"terminal_output\"},{\"default\":\"\",\"kind\":null,\"name\":\"debug_name\"},{\"default\":0,\"kind\":null,\"name\":\"clears\"}]},{\"extends\":null,\"module\":null,\"name\":\"NotificationAreaBase1\",\"overrides\":[],\"properties\":[{\"default\":\"bottom-right\",\"kind\":null,\"name\":\"position\"},{\"default\":0,\"kind\":null,\"name\":\"_clear\"}]},{\"extends\":null,\"module\":null,\"name\":\"NotificationArea1\",\"overrides\":[],\"properties\":[{\"default\":[],\"kind\":null,\"name\":\"notifications\"},{\"default\":\"bottom-right\",\"kind\":null,\"name\":\"position\"},{\"default\":0,\"kind\":null,\"name\":\"_clear\"},{\"default\":[{\"background\":\"#ffc107\",\"icon\":{\"className\":\"fas fa-exclamation-triangle\",\"color\":\"white\",\"tagName\":\"i\"},\"type\":\"warning\"},{\"background\":\"#007bff\",\"icon\":{\"className\":\"fas fa-info-circle\",\"color\":\"white\",\"tagName\":\"i\"},\"type\":\"info\"}],\"kind\":null,\"name\":\"types\"}]},{\"extends\":null,\"module\":null,\"name\":\"Notification\",\"overrides\":[],\"properties\":[{\"default\":null,\"kind\":null,\"name\":\"background\"},{\"default\":3000,\"kind\":null,\"name\":\"duration\"},{\"default\":null,\"kind\":null,\"name\":\"icon\"},{\"default\":\"\",\"kind\":null,\"name\":\"message\"},{\"default\":null,\"kind\":null,\"name\":\"notification_type\"},{\"default\":false,\"kind\":null,\"name\":\"_destroyed\"}]},{\"extends\":null,\"module\":null,\"name\":\"TemplateActions1\",\"overrides\":[],\"properties\":[{\"default\":0,\"kind\":null,\"name\":\"open_modal\"},{\"default\":0,\"kind\":null,\"name\":\"close_modal\"}]},{\"extends\":null,\"module\":null,\"name\":\"MaterialTemplateActions1\",\"overrides\":[],\"properties\":[{\"default\":0,\"kind\":null,\"name\":\"open_modal\"},{\"default\":0,\"kind\":null,\"name\":\"close_modal\"}]}],\"roots\":{\"references\":[{\"attributes\":{\"angle\":{\"value\":0.0},\"fill_alpha\":{\"value\":1.0},\"fill_color\":{\"value\":\"#30a2da\"},\"hatch_alpha\":{\"value\":1.0},\"hatch_color\":{\"value\":\"#30a2da\"},\"hatch_scale\":{\"value\":12.0},\"hatch_weight\":{\"value\":1.0},\"line_alpha\":{\"value\":1.0},\"line_cap\":{\"value\":\"butt\"},\"line_color\":{\"value\":\"#30a2da\"},\"line_dash\":{\"value\":[]},\"line_dash_offset\":{\"value\":0},\"line_join\":{\"value\":\"bevel\"},\"line_width\":{\"value\":1},\"marker\":{\"value\":\"circle\"},\"size\":{\"value\":5.477225575051661},\"x\":{\"field\":\"mobile_app_rating\"},\"y\":{\"field\":\"personal_banker_rating\"}},\"id\":\"1681\",\"type\":\"Scatter\"},{\"attributes\":{\"fill_alpha\":{\"value\":0.2},\"fill_color\":{\"value\":\"#e5ae38\"},\"hatch_alpha\":{\"value\":0.2},\"hatch_color\":{\"value\":\"#e5ae38\"},\"line_alpha\":{\"value\":0.2},\"line_color\":{\"value\":\"#e5ae38\"},\"size\":{\"value\":5.477225575051661},\"x\":{\"field\":\"mobile_app_rating\"},\"y\":{\"field\":\"personal_banker_rating\"}},\"id\":\"1709\",\"type\":\"Scatter\"},{\"attributes\":{\"angle\":{\"value\":0.0},\"fill_alpha\":{\"value\":1.0},\"fill_color\":{\"value\":\"#fc4f30\"},\"hatch_alpha\":{\"value\":1.0},\"hatch_color\":{\"value\":\"#fc4f30\"},\"hatch_scale\":{\"value\":12.0},\"hatch_weight\":{\"value\":1.0},\"line_alpha\":{\"value\":1.0},\"line_cap\":{\"value\":\"butt\"},\"line_color\":{\"value\":\"#fc4f30\"},\"line_dash\":{\"value\":[]},\"line_dash_offset\":{\"value\":0},\"line_join\":{\"value\":\"bevel\"},\"line_width\":{\"value\":1},\"marker\":{\"value\":\"circle\"},\"size\":{\"value\":5.477225575051661},\"x\":{\"field\":\"mobile_app_rating\"},\"y\":{\"field\":\"personal_banker_rating\"}},\"id\":\"1703\",\"type\":\"Scatter\"},{\"attributes\":{},\"id\":\"1632\",\"type\":\"LinearScale\"},{\"attributes\":{\"source\":{\"id\":\"1704\"}},\"id\":\"1711\",\"type\":\"CDSView\"},{\"attributes\":{},\"id\":\"1630\",\"type\":\"LinearScale\"},{\"attributes\":{\"label\":{\"value\":\"1\"},\"renderers\":[{\"id\":\"1688\"}]},\"id\":\"1702\",\"type\":\"LegendItem\"},{\"attributes\":{\"coordinates\":null,\"group\":null,\"text_color\":\"black\",\"text_font_size\":\"12pt\"},\"id\":\"1626\",\"type\":\"Title\"},{\"attributes\":{\"fill_color\":{\"value\":\"#fc4f30\"},\"hatch_color\":{\"value\":\"#fc4f30\"},\"line_color\":{\"value\":\"#fc4f30\"},\"size\":{\"value\":5.477225575051661},\"x\":{\"field\":\"mobile_app_rating\"},\"y\":{\"field\":\"personal_banker_rating\"}},\"id\":\"1685\",\"type\":\"Scatter\"},{\"attributes\":{\"angle\":{\"value\":0.0},\"fill_alpha\":{\"value\":1.0},\"fill_color\":{\"value\":\"#e5ae38\"},\"hatch_alpha\":{\"value\":1.0},\"hatch_color\":{\"value\":\"#e5ae38\"},\"hatch_scale\":{\"value\":12.0},\"hatch_weight\":{\"value\":1.0},\"line_alpha\":{\"value\":1.0},\"line_cap\":{\"value\":\"butt\"},\"line_color\":{\"value\":\"#e5ae38\"},\"line_dash\":{\"value\":[]},\"line_dash_offset\":{\"value\":0},\"line_join\":{\"value\":\"bevel\"},\"line_width\":{\"value\":1},\"marker\":{\"value\":\"circle\"},\"size\":{\"value\":5.477225575051661},\"x\":{\"field\":\"mobile_app_rating\"},\"y\":{\"field\":\"personal_banker_rating\"}},\"id\":\"1727\",\"type\":\"Scatter\"},{\"attributes\":{\"coordinates\":null,\"data_source\":{\"id\":\"1682\"},\"glyph\":{\"id\":\"1685\"},\"group\":null,\"hover_glyph\":null,\"muted_glyph\":{\"id\":\"1687\"},\"nonselection_glyph\":{\"id\":\"1686\"},\"selection_glyph\":{\"id\":\"1703\"},\"view\":{\"id\":\"1689\"}},\"id\":\"1688\",\"type\":\"GlyphRenderer\"},{\"attributes\":{\"data\":{\"customer_segment3\":[0,0,0,0,0,0,0,0,0,0,0,0,0,0,0,0,0,0,0,0,0,0,0,0,0,0],\"mobile_app_rating\":{\"__ndarray__\":\"AAAAAAAADEBcj8L1KFwHQK5H4XoUrg9AexSuR+F6DkC4HoXrUbgQQDMzMzMzMwtAmpmZmZmZCUBxPQrXo3ALQFyPwvUoXA1AAAAAAAAAEED2KFyPwvUMQHE9CtejcBBAMzMzMzMzD0AAAAAAAAAOQAAAAAAAABBA7FG4HoXrDUCamZmZmZkJQAAAAAAAAAxAH4XrUbgeC0CamZmZmZkJQBSuR+F6FBFAhetRuB6FCUCuR+F6FK4NQAAAAAAAABBAAAAAAAAADEAAAAAAAAAMQA==\",\"dtype\":\"float64\",\"order\":\"little\",\"shape\":[26]},\"personal_banker_rating\":{\"__ndarray__\":\"MzMzMzMzA0Bcj8L1KFwBQAAAAAAAAABACtejcD0KA0AAAAAAAADgPwAAAAAAAABAAAAAAAAAAEAAAAAAAADwPwAAAAAAAABAAAAAAAAAAEAAAAAAAAAAQAAAAAAAAABAAAAAAAAA4D/2KFyPwvX4PwAAAAAAAABAMzMzMzMzA0Bcj8L1KFwBQKRwPQrXowJA9ihcj8L1/D+kcD0K16MCQAAAAAAAAABASOF6FK5H/T9cj8L1KFwBQDMzMzMzMwNAZmZmZmZmAkAzMzMzMzMDQA==\",\"dtype\":\"float64\",\"order\":\"little\",\"shape\":[26]}},\"selected\":{\"id\":\"1662\"},\"selection_policy\":{\"id\":\"1676\"}},\"id\":\"1661\",\"type\":\"ColumnDataSource\"},{\"attributes\":{\"fill_alpha\":{\"value\":0.1},\"fill_color\":{\"value\":\"#e5ae38\"},\"hatch_alpha\":{\"value\":0.1},\"hatch_color\":{\"value\":\"#e5ae38\"},\"line_alpha\":{\"value\":0.1},\"line_color\":{\"value\":\"#e5ae38\"},\"size\":{\"value\":5.477225575051661},\"x\":{\"field\":\"mobile_app_rating\"},\"y\":{\"field\":\"personal_banker_rating\"}},\"id\":\"1708\",\"type\":\"Scatter\"},{\"attributes\":{},\"id\":\"1657\",\"type\":\"AllLabels\"},{\"attributes\":{\"axis_label\":\"mobile_app_rating\",\"coordinates\":null,\"formatter\":{\"id\":\"1656\"},\"group\":null,\"major_label_policy\":{\"id\":\"1657\"},\"ticker\":{\"id\":\"1635\"}},\"id\":\"1634\",\"type\":\"LinearAxis\"},{\"attributes\":{\"fill_alpha\":{\"value\":0.1},\"fill_color\":{\"value\":\"#30a2da\"},\"hatch_alpha\":{\"value\":0.1},\"hatch_color\":{\"value\":\"#30a2da\"},\"line_alpha\":{\"value\":0.1},\"line_color\":{\"value\":\"#30a2da\"},\"size\":{\"value\":5.477225575051661},\"x\":{\"field\":\"mobile_app_rating\"},\"y\":{\"field\":\"personal_banker_rating\"}},\"id\":\"1665\",\"type\":\"Scatter\"},{\"attributes\":{},\"id\":\"1643\",\"type\":\"PanTool\"},{\"attributes\":{\"label\":{\"value\":\"2\"},\"renderers\":[{\"id\":\"1710\"}]},\"id\":\"1726\",\"type\":\"LegendItem\"},{\"attributes\":{\"coordinates\":null,\"data_source\":{\"id\":\"1704\"},\"glyph\":{\"id\":\"1707\"},\"group\":null,\"hover_glyph\":null,\"muted_glyph\":{\"id\":\"1709\"},\"nonselection_glyph\":{\"id\":\"1708\"},\"selection_glyph\":{\"id\":\"1727\"},\"view\":{\"id\":\"1711\"}},\"id\":\"1710\",\"type\":\"GlyphRenderer\"},{\"attributes\":{\"margin\":[5,5,5,5],\"name\":\"HSpacer01514\",\"sizing_mode\":\"stretch_width\"},\"id\":\"1619\",\"type\":\"Spacer\"},{\"attributes\":{},\"id\":\"1635\",\"type\":\"BasicTicker\"},{\"attributes\":{\"axis\":{\"id\":\"1634\"},\"coordinates\":null,\"grid_line_color\":null,\"group\":null,\"ticker\":null},\"id\":\"1637\",\"type\":\"Grid\"},{\"attributes\":{\"coordinates\":null,\"data_source\":{\"id\":\"1661\"},\"glyph\":{\"id\":\"1664\"},\"group\":null,\"hover_glyph\":null,\"muted_glyph\":{\"id\":\"1666\"},\"nonselection_glyph\":{\"id\":\"1665\"},\"selection_glyph\":{\"id\":\"1681\"},\"view\":{\"id\":\"1668\"}},\"id\":\"1667\",\"type\":\"GlyphRenderer\"},{\"attributes\":{},\"id\":\"1662\",\"type\":\"Selection\"},{\"attributes\":{},\"id\":\"1723\",\"type\":\"UnionRenderers\"},{\"attributes\":{\"axis_label\":\"personal_banker_rating\",\"coordinates\":null,\"formatter\":{\"id\":\"1659\"},\"group\":null,\"major_label_policy\":{\"id\":\"1660\"},\"ticker\":{\"id\":\"1639\"}},\"id\":\"1638\",\"type\":\"LinearAxis\"},{\"attributes\":{\"fill_alpha\":{\"value\":0.2},\"fill_color\":{\"value\":\"#fc4f30\"},\"hatch_alpha\":{\"value\":0.2},\"hatch_color\":{\"value\":\"#fc4f30\"},\"line_alpha\":{\"value\":0.2},\"line_color\":{\"value\":\"#fc4f30\"},\"size\":{\"value\":5.477225575051661},\"x\":{\"field\":\"mobile_app_rating\"},\"y\":{\"field\":\"personal_banker_rating\"}},\"id\":\"1687\",\"type\":\"Scatter\"},{\"attributes\":{\"axis\":{\"id\":\"1638\"},\"coordinates\":null,\"dimension\":1,\"grid_line_color\":null,\"group\":null,\"ticker\":null},\"id\":\"1641\",\"type\":\"Grid\"},{\"attributes\":{},\"id\":\"1639\",\"type\":\"BasicTicker\"},{\"attributes\":{\"data\":{\"customer_segment3\":[1,1,1,1,1,1,1,1,1,1,1,1,1,1,1,1,1,1,1,1,1,1,1,1,1,1,1,1,1,1,1,1,1,1,1,1,1,1,1,1,1,1,1,1,1,1,1,1,1,1,1,1,1,1,1,1,1,1,1,1,1,1,1,1,1,1,1,1,1,1,1,1,1,1,1,1,1,1,1,1,1,1,1,1,1,1,1],\"mobile_app_rating\":{\"__ndarray__\":\"MzMzMzMzDUB7FK5H4XoKQBSuR+F6FA5AZmZmZmZmCkAAAAAAAAARQKRwPQrXowpAAAAAAAAADkBI4XoUrkcLQFK4HoXrURFAXI/C9ShcDUBxPQrXo3ANQM3MzMzMzApAcT0K16NwDUDhehSuR+EQQB+F61G4HgtAAAAAAAAAEkA9CtejcD0SQFyPwvUoXBBAUrgehetRCkAfhetRuB4PQAAAAAAAABJAMzMzMzMzC0CF61G4HoULQOF6FK5H4Q5APQrXo3A9DkBxPQrXo3ANQAAAAAAAAApA9ihcj8L1DEAUrkfhehQKQD0K16NwPQxAzczMzMzMCkApXI/C9SgKQB+F61G4Hg1AAAAAAAAADEBI4XoUrkcLQOxRuB6F6wtAhetRuB6FC0CamZmZmZkNQAAAAAAAABBApHA9CtejCkCuR+F6FK4SQAAAAAAAABJAUrgehetRCkAAAAAAAAAMQI/C9ShcjxBAZmZmZmZmDECuR+F6FK4JQDMzMzMzMwtAmpmZmZmZDUBI4XoUrkcPQPYoXI/C9QpAAAAAAAAADkDXo3A9CtcJQEjhehSuRwtAZmZmZmZmDECuR+F6FK4PQFyPwvUoXA9Aw/UoXI/CCUCkcD0K16MKQI/C9Shcjw5AXI/C9ShcDUAAAAAAAAAMQMP1KFyPwgtAH4XrUbgeC0AAAAAAAAAMQOxRuB6F6wlArkfhehSuC0C4HoXrUbgKQAAAAAAAAAxAuB6F61G4CkDhehSuR+EOQD0K16NwPRBAH4XrUbgeDUC4HoXrUbgMQOF6FK5H4QpAzczMzMzMEEB7FK5H4XoOQMP1KFyPwhBAXI/C9ShcDUBSuB6F61ESQAAAAAAAAApACtejcD0KC0AK16NwPQoNQK5H4XoUrgtAhetRuB6FC0AAAAAAAAAKQLgehetRuAxA\",\"dtype\":\"float64\",\"order\":\"little\",\"shape\":[87]},\"personal_banker_rating\":{\"__ndarray__\":\"H4XrUbgeCUD2KFyPwvUIQI/C9ShcjwhApHA9CtejBkAAAAAAAAAIQJqZmZmZmQVA9ihcj8L1CEC4HoXrUbgIQAAAAAAAAARAKVyPwvUoBkBxPQrXo3AHQFyPwvUoXAlAH4XrUbgeCUAAAAAAAAAIQHE9CtejcAlAZmZmZmZmBEBcj8L1KFwJQAAAAAAAAARAAAAAAAAACECkcD0K16MGQAAAAAAAAAhAAAAAAAAACEBcj8L1KFwJQAAAAAAAAARAAAAAAAAACECF61G4HoUJQFyPwvUoXAVAZmZmZmZmBkDD9Shcj8IHQM3MzMzMzAZApHA9CtejBkA9CtejcD0IQAAAAAAAAAhAAAAAAAAACEAK16NwPQoFQIXrUbgehQlAAAAAAAAACEAAAAAAAAAIQKRwPQrXowZAAAAAAAAABEAzMzMzMzMHQFyPwvUoXAlAzczMzMzMBkCkcD0K16MGQM3MzMzMzAZAZmZmZmZmBkD2KFyPwvUEQKRwPQrXowhAAAAAAAAABEAAAAAAAAAEQIXrUbgehQlAAAAAAAAACEAAAAAAAAAEQDMzMzMzMwdAAAAAAAAACEAAAAAAAAAIQArXo3A9CglAuB6F61G4BkBcj8L1KFwHQAAAAAAAAAhAAAAAAAAACEAAAAAAAAAIQFyPwvUoXAVAMzMzMzMzB0Bcj8L1KFwJQM3MzMzMzAhAAAAAAAAABkApXI/C9SgIQB+F61G4HgdAexSuR+F6BkAAAAAAAAAIQEjhehSuRwVAXI/C9ShcBUAAAAAAAAAIQI/C9ShcjwhAXI/C9ShcCUC4HoXrUbgIQDMzMzMzMwdAAAAAAAAACEBcj8L1KFwJQK5H4XoUrgVArkfhehSuBUCkcD0K16MEQJqZmZmZmQNAAAAAAAAACEAK16NwPQoHQGZmZmZmZg5A\",\"dtype\":\"float64\",\"order\":\"little\",\"shape\":[87]}},\"selected\":{\"id\":\"1683\"},\"selection_policy\":{\"id\":\"1699\"}},\"id\":\"1682\",\"type\":\"ColumnDataSource\"},{\"attributes\":{},\"id\":\"1660\",\"type\":\"AllLabels\"},{\"attributes\":{},\"id\":\"1644\",\"type\":\"WheelZoomTool\"},{\"attributes\":{},\"id\":\"1659\",\"type\":\"BasicTickFormatter\"},{\"attributes\":{\"source\":{\"id\":\"1682\"}},\"id\":\"1689\",\"type\":\"CDSView\"},{\"attributes\":{\"end\":5.263,\"reset_end\":5.263,\"reset_start\":0.06699999999999995,\"start\":0.06699999999999995,\"tags\":[[[\"personal_banker_rating\",\"personal_banker_rating\",null]]]},\"id\":\"1621\",\"type\":\"Range1d\"},{\"attributes\":{},\"id\":\"1642\",\"type\":\"SaveTool\"},{\"attributes\":{\"overlay\":{\"id\":\"1647\"}},\"id\":\"1645\",\"type\":\"BoxZoomTool\"},{\"attributes\":{\"click_policy\":\"mute\",\"coordinates\":null,\"group\":null,\"items\":[{\"id\":\"1680\"},{\"id\":\"1702\"},{\"id\":\"1726\"}],\"location\":[0,0],\"title\":\"customer_segment3\"},\"id\":\"1679\",\"type\":\"Legend\"},{\"attributes\":{},\"id\":\"1705\",\"type\":\"Selection\"},{\"attributes\":{\"fill_alpha\":{\"value\":0.1},\"fill_color\":{\"value\":\"#fc4f30\"},\"hatch_alpha\":{\"value\":0.1},\"hatch_color\":{\"value\":\"#fc4f30\"},\"line_alpha\":{\"value\":0.1},\"line_color\":{\"value\":\"#fc4f30\"},\"size\":{\"value\":5.477225575051661},\"x\":{\"field\":\"mobile_app_rating\"},\"y\":{\"field\":\"personal_banker_rating\"}},\"id\":\"1686\",\"type\":\"Scatter\"},{\"attributes\":{},\"id\":\"1646\",\"type\":\"ResetTool\"},{\"attributes\":{\"bottom_units\":\"screen\",\"coordinates\":null,\"fill_alpha\":0.5,\"fill_color\":\"lightgrey\",\"group\":null,\"left_units\":\"screen\",\"level\":\"overlay\",\"line_alpha\":1.0,\"line_color\":\"black\",\"line_dash\":[4,4],\"line_width\":2,\"right_units\":\"screen\",\"syncable\":false,\"top_units\":\"screen\"},\"id\":\"1647\",\"type\":\"BoxAnnotation\"},{\"attributes\":{},\"id\":\"1676\",\"type\":\"UnionRenderers\"},{\"attributes\":{\"end\":4.832428571428571,\"reset_end\":4.832428571428571,\"reset_start\":0.7175714285714285,\"start\":0.7175714285714285,\"tags\":[[[\"mobile_app_rating\",\"mobile_app_rating\",null]]]},\"id\":\"1620\",\"type\":\"Range1d\"},{\"attributes\":{\"fill_color\":{\"value\":\"#e5ae38\"},\"hatch_color\":{\"value\":\"#e5ae38\"},\"line_color\":{\"value\":\"#e5ae38\"},\"size\":{\"value\":5.477225575051661},\"x\":{\"field\":\"mobile_app_rating\"},\"y\":{\"field\":\"personal_banker_rating\"}},\"id\":\"1707\",\"type\":\"Scatter\"},{\"attributes\":{\"label\":{\"value\":\"0\"},\"renderers\":[{\"id\":\"1667\"}]},\"id\":\"1680\",\"type\":\"LegendItem\"},{\"attributes\":{},\"id\":\"1683\",\"type\":\"Selection\"},{\"attributes\":{\"source\":{\"id\":\"1661\"}},\"id\":\"1668\",\"type\":\"CDSView\"},{\"attributes\":{\"fill_color\":{\"value\":\"#30a2da\"},\"hatch_color\":{\"value\":\"#30a2da\"},\"line_color\":{\"value\":\"#30a2da\"},\"size\":{\"value\":5.477225575051661},\"x\":{\"field\":\"mobile_app_rating\"},\"y\":{\"field\":\"personal_banker_rating\"}},\"id\":\"1664\",\"type\":\"Scatter\"},{\"attributes\":{\"callback\":null,\"renderers\":[{\"id\":\"1667\"},{\"id\":\"1688\"},{\"id\":\"1710\"}],\"tags\":[\"hv_created\"],\"tooltips\":[[\"customer_segment3\",\"@{customer_segment3}\"],[\"mobile_app_rating\",\"@{mobile_app_rating}\"],[\"personal_banker_rating\",\"@{personal_banker_rating}\"]]},\"id\":\"1622\",\"type\":\"HoverTool\"},{\"attributes\":{\"children\":[{\"id\":\"1619\"},{\"id\":\"1625\"},{\"id\":\"1742\"}],\"margin\":[0,0,0,0],\"name\":\"Row01510\",\"tags\":[\"embedded\"]},\"id\":\"1618\",\"type\":\"Row\"},{\"attributes\":{\"margin\":[5,5,5,5],\"name\":\"HSpacer01515\",\"sizing_mode\":\"stretch_width\"},\"id\":\"1742\",\"type\":\"Spacer\"},{\"attributes\":{\"data\":{\"customer_segment3\":[2,2,2,2,2,2,2,2,2,2,2,2,2,2,2,2,2,2,2,2,2,2,2,2,2,2,2,2,2,2,2,2,2,2,2,2,2,2,2,2,2,2,2,2,2,2,2,2,2,2,2,2,2,2,2,2,2,2,2,2,2,2,2,2,2,2,2,2,2,2],\"mobile_app_rating\":{\"__ndarray__\":\"MzMzMzMzB0BxPQrXo3AHQB+F61G4HgdA4XoUrkfhBEAAAAAAAAAIQClcj8L1KOw/AAAAAAAABkBxPQrXo3AHQKRwPQrXowJAAAAAAAAACED2KFyPwvUGQAAAAAAAAARAXI/C9ShcAUC4HoXrUbgIQFyPwvUoXANAAAAAAAAACEDNzMzMzMwEQHE9CtejcAdAH4XrUbgeCUBI4XoUrkcHQAAAAAAAAAhAexSuR+F6CEAzMzMzMzMHQArXo3A9CgdAhetRuB6FA0CkcD0K16MGQFyPwvUoXAdAPQrXo3A9BkAfhetRuB4DQAAAAAAAAABAXI/C9ShcBUAfhetRuB4HQHsUrkfheghAAAAAAAAAAkAAAAAAAADwPwAAAAAAAAZApHA9CtejBED2KFyPwvUEQKRwPQrXowhA4XoUrkfhBkD2KFyPwvUGQAAAAAAAAABAj8L1KFyPCEBmZmZmZmYCQEjhehSuR/k/MzMzMzMzB0DNzMzMzMwIQFK4HoXrUQhAj8L1KFyPBEDhehSuR+EGQKRwPQrXowZAj8L1KFyPBkCkcD0K16MGQI/C9ShcjwhAAAAAAAAAAEApXI/C9SgIQHE9CtejcAdApHA9CtejAkAAAAAAAAAIQAAAAAAAAPw/AAAAAAAABkBSuB6F61EIQHsUrkfheghAUrgehetRCEBmZmZmZmYGQAAAAAAAAAhASOF6FK5HBUAAAAAAAAAIQAAAAAAAAABAMzMzMzMzA0A=\",\"dtype\":\"float64\",\"order\":\"little\",\"shape\":[70]},\"personal_banker_rating\":{\"__ndarray__\":\"AAAAAAAABkDhehSuR+EKQPYoXI/C9QRAFK5H4XoUBEBcj8L1KFwJQAAAAAAAAAhAMzMzMzMzBUBxPQrXo3ALQMP1KFyPwgVAH4XrUbgeB0ApXI/C9SgIQD0K16NwPRBAAAAAAAAACEAAAAAAAAAGQNejcD0K1wdAXI/C9ShcBUCPwvUoXI8EQLgehetRuAxAKVyPwvUoCEDsUbgehesHQAAAAAAAAARAUrgehetRCEC4HoXrUbgGQKRwPQrXowpAMzMzMzMzB0AAAAAAAAAIQI/C9ShcjwhAAAAAAAAACEC4HoXrUbgEQAAAAAAAAA5AAAAAAAAABkBmZmZmZmYOQM3MzMzMzAZAAAAAAAAACkAAAAAAAAASQNejcD0K1xBAAAAAAAAABEAAAAAAAAAIQMP1KFyPwgNArkfhehSuA0Bcj8L1KFwNQHsUrkfhegxAcT0K16NwBUAAAAAAAAAMQOF6FK5H4QZAAAAAAAAABEDhehSuR+EGQOF6FK5H4QhAZmZmZmZmAEDD9Shcj8IFQHE9CtejcAVAFK5H4XoUBkAK16NwPQoDQHE9CtejcAdAXI/C9ShcBUDNzMzMzMwIQGZmZmZmZgpAAAAAAAAACECPwvUoXI8EQAAAAAAAABBAXI/C9ShcCUBcj8L1KFwFQM3MzMzMzARACtejcD0KB0CF61G4HoUFQFK4HoXrUQZAXI/C9ShcC0BmZmZmZmYGQFK4HoXrURNAZmZmZmZmBkA=\",\"dtype\":\"float64\",\"order\":\"little\",\"shape\":[70]}},\"selected\":{\"id\":\"1705\"},\"selection_policy\":{\"id\":\"1723\"}},\"id\":\"1704\",\"type\":\"ColumnDataSource\"},{\"attributes\":{\"fill_alpha\":{\"value\":0.2},\"fill_color\":{\"value\":\"#30a2da\"},\"hatch_alpha\":{\"value\":0.2},\"hatch_color\":{\"value\":\"#30a2da\"},\"line_alpha\":{\"value\":0.2},\"line_color\":{\"value\":\"#30a2da\"},\"size\":{\"value\":5.477225575051661},\"x\":{\"field\":\"mobile_app_rating\"},\"y\":{\"field\":\"personal_banker_rating\"}},\"id\":\"1666\",\"type\":\"Scatter\"},{\"attributes\":{\"below\":[{\"id\":\"1634\"}],\"center\":[{\"id\":\"1637\"},{\"id\":\"1641\"}],\"height\":300,\"left\":[{\"id\":\"1638\"}],\"margin\":[5,5,5,5],\"min_border_bottom\":10,\"min_border_left\":10,\"min_border_right\":10,\"min_border_top\":10,\"renderers\":[{\"id\":\"1667\"},{\"id\":\"1688\"},{\"id\":\"1710\"}],\"right\":[{\"id\":\"1679\"}],\"sizing_mode\":\"fixed\",\"title\":{\"id\":\"1626\"},\"toolbar\":{\"id\":\"1648\"},\"width\":700,\"x_range\":{\"id\":\"1620\"},\"x_scale\":{\"id\":\"1630\"},\"y_range\":{\"id\":\"1621\"},\"y_scale\":{\"id\":\"1632\"}},\"id\":\"1625\",\"subtype\":\"Figure\",\"type\":\"Plot\"},{\"attributes\":{},\"id\":\"1656\",\"type\":\"BasicTickFormatter\"},{\"attributes\":{},\"id\":\"1699\",\"type\":\"UnionRenderers\"},{\"attributes\":{\"tools\":[{\"id\":\"1622\"},{\"id\":\"1642\"},{\"id\":\"1643\"},{\"id\":\"1644\"},{\"id\":\"1645\"},{\"id\":\"1646\"}]},\"id\":\"1648\",\"type\":\"Toolbar\"}],\"root_ids\":[\"1618\"]},\"title\":\"Bokeh Application\",\"version\":\"2.4.3\"}};\n",
       "    var render_items = [{\"docid\":\"c431f90b-a0d9-4d75-9dc9-f42c18c52d4d\",\"root_ids\":[\"1618\"],\"roots\":{\"1618\":\"38f067f6-2287-431f-b35d-5c2dd79e49f5\"}}];\n",
       "    root.Bokeh.embed.embed_items_notebook(docs_json, render_items);\n",
       "  }\n",
       "  if (root.Bokeh !== undefined && root.Bokeh.Panel !== undefined) {\n",
       "    embed_document(root);\n",
       "  } else {\n",
       "    var attempts = 0;\n",
       "    var timer = setInterval(function(root) {\n",
       "      if (root.Bokeh !== undefined && root.Bokeh.Panel !== undefined) {\n",
       "        clearInterval(timer);\n",
       "        embed_document(root);\n",
       "      } else if (document.readyState == \"complete\") {\n",
       "        attempts++;\n",
       "        if (attempts > 200) {\n",
       "          clearInterval(timer);\n",
       "          console.log(\"Bokeh: ERROR: Unable to run BokehJS code because BokehJS library is missing\");\n",
       "        }\n",
       "      }\n",
       "    }, 25, root)\n",
       "  }\n",
       "})(window);</script>"
      ],
      "text/plain": [
       ":NdOverlay   [customer_segment3]\n",
       "   :Scatter   [mobile_app_rating]   (personal_banker_rating)"
      ]
     },
     "execution_count": 35,
     "metadata": {
      "application/vnd.holoviews_exec.v0+json": {
       "id": "1618"
      }
     },
     "output_type": "execute_result"
    }
   ],
   "source": [
    "# Plot the data points based on the customer rating\n",
    "service_ratings_predictions_df.hvplot.scatter(\n",
    "    x='mobile_app_rating',\n",
    "    y='personal_banker_rating',\n",
    "    by='customer_segment3'\n",
    "    \n",
    "\n",
    ")"
   ]
  },
  {
   "cell_type": "code",
   "execution_count": 36,
   "metadata": {},
   "outputs": [
    {
     "data": {},
     "metadata": {},
     "output_type": "display_data"
    },
    {
     "data": {
      "application/vnd.holoviews_exec.v0+json": "",
      "text/html": [
       "<div id='1814'>\n",
       "  <div class=\"bk-root\" id=\"6b7ba58a-a1a2-45d4-8f28-2d7fc60a5241\" data-root-id=\"1814\"></div>\n",
       "</div>\n",
       "<script type=\"application/javascript\">(function(root) {\n",
       "  function embed_document(root) {\n",
       "    var docs_json = {\"e5ee572e-fe23-40be-b5c2-f2e88efb0291\":{\"defs\":[{\"extends\":null,\"module\":null,\"name\":\"ReactiveHTML1\",\"overrides\":[],\"properties\":[]},{\"extends\":null,\"module\":null,\"name\":\"FlexBox1\",\"overrides\":[],\"properties\":[{\"default\":\"flex-start\",\"kind\":null,\"name\":\"align_content\"},{\"default\":\"flex-start\",\"kind\":null,\"name\":\"align_items\"},{\"default\":\"row\",\"kind\":null,\"name\":\"flex_direction\"},{\"default\":\"wrap\",\"kind\":null,\"name\":\"flex_wrap\"},{\"default\":\"flex-start\",\"kind\":null,\"name\":\"justify_content\"}]},{\"extends\":null,\"module\":null,\"name\":\"GridStack1\",\"overrides\":[],\"properties\":[{\"default\":\"warn\",\"kind\":null,\"name\":\"mode\"},{\"default\":null,\"kind\":null,\"name\":\"ncols\"},{\"default\":null,\"kind\":null,\"name\":\"nrows\"},{\"default\":true,\"kind\":null,\"name\":\"allow_resize\"},{\"default\":true,\"kind\":null,\"name\":\"allow_drag\"},{\"default\":[],\"kind\":null,\"name\":\"state\"}]},{\"extends\":null,\"module\":null,\"name\":\"click1\",\"overrides\":[],\"properties\":[{\"default\":\"\",\"kind\":null,\"name\":\"terminal_output\"},{\"default\":\"\",\"kind\":null,\"name\":\"debug_name\"},{\"default\":0,\"kind\":null,\"name\":\"clears\"}]},{\"extends\":null,\"module\":null,\"name\":\"NotificationAreaBase1\",\"overrides\":[],\"properties\":[{\"default\":\"bottom-right\",\"kind\":null,\"name\":\"position\"},{\"default\":0,\"kind\":null,\"name\":\"_clear\"}]},{\"extends\":null,\"module\":null,\"name\":\"NotificationArea1\",\"overrides\":[],\"properties\":[{\"default\":[],\"kind\":null,\"name\":\"notifications\"},{\"default\":\"bottom-right\",\"kind\":null,\"name\":\"position\"},{\"default\":0,\"kind\":null,\"name\":\"_clear\"},{\"default\":[{\"background\":\"#ffc107\",\"icon\":{\"className\":\"fas fa-exclamation-triangle\",\"color\":\"white\",\"tagName\":\"i\"},\"type\":\"warning\"},{\"background\":\"#007bff\",\"icon\":{\"className\":\"fas fa-info-circle\",\"color\":\"white\",\"tagName\":\"i\"},\"type\":\"info\"}],\"kind\":null,\"name\":\"types\"}]},{\"extends\":null,\"module\":null,\"name\":\"Notification\",\"overrides\":[],\"properties\":[{\"default\":null,\"kind\":null,\"name\":\"background\"},{\"default\":3000,\"kind\":null,\"name\":\"duration\"},{\"default\":null,\"kind\":null,\"name\":\"icon\"},{\"default\":\"\",\"kind\":null,\"name\":\"message\"},{\"default\":null,\"kind\":null,\"name\":\"notification_type\"},{\"default\":false,\"kind\":null,\"name\":\"_destroyed\"}]},{\"extends\":null,\"module\":null,\"name\":\"TemplateActions1\",\"overrides\":[],\"properties\":[{\"default\":0,\"kind\":null,\"name\":\"open_modal\"},{\"default\":0,\"kind\":null,\"name\":\"close_modal\"}]},{\"extends\":null,\"module\":null,\"name\":\"MaterialTemplateActions1\",\"overrides\":[],\"properties\":[{\"default\":0,\"kind\":null,\"name\":\"open_modal\"},{\"default\":0,\"kind\":null,\"name\":\"close_modal\"}]}],\"roots\":{\"references\":[{\"attributes\":{\"label\":{\"value\":\"3\"},\"renderers\":[{\"id\":\"1931\"}]},\"id\":\"1949\",\"type\":\"LegendItem\"},{\"attributes\":{},\"id\":\"1853\",\"type\":\"BasicTickFormatter\"},{\"attributes\":{},\"id\":\"1856\",\"type\":\"BasicTickFormatter\"},{\"attributes\":{\"fill_alpha\":{\"value\":0.2},\"fill_color\":{\"value\":\"#6d904f\"},\"hatch_alpha\":{\"value\":0.2},\"hatch_color\":{\"value\":\"#6d904f\"},\"line_alpha\":{\"value\":0.2},\"line_color\":{\"value\":\"#6d904f\"},\"size\":{\"value\":5.477225575051661},\"x\":{\"field\":\"mobile_app_rating\"},\"y\":{\"field\":\"personal_banker_rating\"}},\"id\":\"1930\",\"type\":\"Scatter\"},{\"attributes\":{},\"id\":\"1857\",\"type\":\"AllLabels\"},{\"attributes\":{\"fill_color\":{\"value\":\"#6d904f\"},\"hatch_color\":{\"value\":\"#6d904f\"},\"line_color\":{\"value\":\"#6d904f\"},\"size\":{\"value\":5.477225575051661},\"x\":{\"field\":\"mobile_app_rating\"},\"y\":{\"field\":\"personal_banker_rating\"}},\"id\":\"1928\",\"type\":\"Scatter\"},{\"attributes\":{\"angle\":{\"value\":0.0},\"fill_alpha\":{\"value\":1.0},\"fill_color\":{\"value\":\"#fc4f30\"},\"hatch_alpha\":{\"value\":1.0},\"hatch_color\":{\"value\":\"#fc4f30\"},\"hatch_scale\":{\"value\":12.0},\"hatch_weight\":{\"value\":1.0},\"line_alpha\":{\"value\":1.0},\"line_cap\":{\"value\":\"butt\"},\"line_color\":{\"value\":\"#fc4f30\"},\"line_dash\":{\"value\":[]},\"line_dash_offset\":{\"value\":0},\"line_join\":{\"value\":\"bevel\"},\"line_width\":{\"value\":1},\"marker\":{\"value\":\"circle\"},\"size\":{\"value\":5.477225575051661},\"x\":{\"field\":\"mobile_app_rating\"},\"y\":{\"field\":\"personal_banker_rating\"}},\"id\":\"1900\",\"type\":\"Scatter\"},{\"attributes\":{\"end\":4.832428571428571,\"reset_end\":4.832428571428571,\"reset_start\":0.7175714285714285,\"start\":0.7175714285714285,\"tags\":[[[\"mobile_app_rating\",\"mobile_app_rating\",null]]]},\"id\":\"1816\",\"type\":\"Range1d\"},{\"attributes\":{\"source\":{\"id\":\"1925\"}},\"id\":\"1932\",\"type\":\"CDSView\"},{\"attributes\":{\"fill_alpha\":{\"value\":0.1},\"fill_color\":{\"value\":\"#6d904f\"},\"hatch_alpha\":{\"value\":0.1},\"hatch_color\":{\"value\":\"#6d904f\"},\"line_alpha\":{\"value\":0.1},\"line_color\":{\"value\":\"#6d904f\"},\"size\":{\"value\":5.477225575051661},\"x\":{\"field\":\"mobile_app_rating\"},\"y\":{\"field\":\"personal_banker_rating\"}},\"id\":\"1929\",\"type\":\"Scatter\"},{\"attributes\":{\"callback\":null,\"renderers\":[{\"id\":\"1864\"},{\"id\":\"1885\"},{\"id\":\"1907\"},{\"id\":\"1931\"}],\"tags\":[\"hv_created\"],\"tooltips\":[[\"customer_segment4\",\"@{customer_segment4}\"],[\"mobile_app_rating\",\"@{mobile_app_rating}\"],[\"personal_banker_rating\",\"@{personal_banker_rating}\"]]},\"id\":\"1818\",\"type\":\"HoverTool\"},{\"attributes\":{\"label\":{\"value\":\"2\"},\"renderers\":[{\"id\":\"1907\"}]},\"id\":\"1923\",\"type\":\"LegendItem\"},{\"attributes\":{\"coordinates\":null,\"data_source\":{\"id\":\"1925\"},\"glyph\":{\"id\":\"1928\"},\"group\":null,\"hover_glyph\":null,\"muted_glyph\":{\"id\":\"1930\"},\"nonselection_glyph\":{\"id\":\"1929\"},\"selection_glyph\":{\"id\":\"1950\"},\"view\":{\"id\":\"1932\"}},\"id\":\"1931\",\"type\":\"GlyphRenderer\"},{\"attributes\":{\"data\":{\"customer_segment4\":[1,1,1,1,1,1,1,1,1,1,1,1,1,1,1,1,1,1,1,1,1,1,1,1,1,1,1,1,1,1,1,1,1,1,1,1,1,1,1,1,1,1,1,1,1,1,1,1,1,1,1,1,1,1,1,1,1,1,1,1,1,1,1,1,1,1,1],\"mobile_app_rating\":{\"__ndarray__\":\"MzMzMzMzDUAUrkfhehQOQAAAAAAAABFAAAAAAAAADkBI4XoUrkcLQFK4HoXrURFAXI/C9ShcDUBxPQrXo3ANQM3MzMzMzApAcT0K16NwDUDhehSuR+EQQB+F61G4HgtAAAAAAAAAEkA9CtejcD0SQFyPwvUoXBBAH4XrUbgeD0AAAAAAAAASQDMzMzMzMwtAhetRuB6FC0DhehSuR+EOQD0K16NwPQ5AcT0K16NwDUD2KFyPwvUMQD0K16NwPQxAH4XrUbgeDUAAAAAAAAAMQEjhehSuRwtA7FG4HoXrC0CF61G4HoULQJqZmZmZmQ1AAAAAAAAAEECuR+F6FK4SQAAAAAAAABJAAAAAAAAADECPwvUoXI8QQGZmZmZmZgxAMzMzMzMzC0CamZmZmZkNQEjhehSuRw9A9ihcj8L1CkAAAAAAAAAOQEjhehSuRwtAZmZmZmZmDECuR+F6FK4PQFyPwvUoXA9Aj8L1KFyPDkBcj8L1KFwNQAAAAAAAAAxAw/UoXI/CC0AfhetRuB4LQAAAAAAAAAxArkfhehSuC0C4HoXrUbgKQAAAAAAAAAxA4XoUrkfhDkA9CtejcD0QQB+F61G4Hg1AuB6F61G4DEDhehSuR+EKQM3MzMzMzBBAexSuR+F6DkDD9Shcj8IQQFyPwvUoXA1AUrgehetREkAK16NwPQoNQIXrUbgehQtAuB6F61G4DEA=\",\"dtype\":\"float64\",\"order\":\"little\",\"shape\":[67]},\"personal_banker_rating\":{\"__ndarray__\":\"H4XrUbgeCUCPwvUoXI8IQAAAAAAAAAhA9ihcj8L1CEC4HoXrUbgIQAAAAAAAAARAKVyPwvUoBkBxPQrXo3AHQFyPwvUoXAlAH4XrUbgeCUAAAAAAAAAIQHE9CtejcAlAZmZmZmZmBEBcj8L1KFwJQAAAAAAAAARApHA9CtejBkAAAAAAAAAIQAAAAAAAAAhAXI/C9ShcCUAAAAAAAAAEQAAAAAAAAAhAhetRuB6FCUBmZmZmZmYGQM3MzMzMzAZAAAAAAAAACEAAAAAAAAAIQArXo3A9CgVAhetRuB6FCUAAAAAAAAAIQAAAAAAAAAhApHA9CtejBkAzMzMzMzMHQFyPwvUoXAlApHA9CtejBkDNzMzMzMwGQGZmZmZmZgZApHA9CtejCEAAAAAAAAAEQAAAAAAAAARAhetRuB6FCUAAAAAAAAAIQDMzMzMzMwdAAAAAAAAACEAAAAAAAAAIQArXo3A9CglAAAAAAAAACEAAAAAAAAAIQAAAAAAAAAhAXI/C9ShcBUAzMzMzMzMHQFyPwvUoXAlAAAAAAAAABkApXI/C9SgIQB+F61G4HgdAAAAAAAAACEBI4XoUrkcFQFyPwvUoXAVAAAAAAAAACECPwvUoXI8IQFyPwvUoXAlAuB6F61G4CEAzMzMzMzMHQAAAAAAAAAhAXI/C9ShcCUCkcD0K16MEQAAAAAAAAAhAZmZmZmZmDkA=\",\"dtype\":\"float64\",\"order\":\"little\",\"shape\":[67]}},\"selected\":{\"id\":\"1880\"},\"selection_policy\":{\"id\":\"1896\"}},\"id\":\"1879\",\"type\":\"ColumnDataSource\"},{\"attributes\":{\"fill_color\":{\"value\":\"#30a2da\"},\"hatch_color\":{\"value\":\"#30a2da\"},\"line_color\":{\"value\":\"#30a2da\"},\"size\":{\"value\":5.477225575051661},\"x\":{\"field\":\"mobile_app_rating\"},\"y\":{\"field\":\"personal_banker_rating\"}},\"id\":\"1861\",\"type\":\"Scatter\"},{\"attributes\":{\"coordinates\":null,\"data_source\":{\"id\":\"1858\"},\"glyph\":{\"id\":\"1861\"},\"group\":null,\"hover_glyph\":null,\"muted_glyph\":{\"id\":\"1863\"},\"nonselection_glyph\":{\"id\":\"1862\"},\"selection_glyph\":{\"id\":\"1878\"},\"view\":{\"id\":\"1865\"}},\"id\":\"1864\",\"type\":\"GlyphRenderer\"},{\"attributes\":{\"coordinates\":null,\"data_source\":{\"id\":\"1901\"},\"glyph\":{\"id\":\"1904\"},\"group\":null,\"hover_glyph\":null,\"muted_glyph\":{\"id\":\"1906\"},\"nonselection_glyph\":{\"id\":\"1905\"},\"selection_glyph\":{\"id\":\"1924\"},\"view\":{\"id\":\"1908\"}},\"id\":\"1907\",\"type\":\"GlyphRenderer\"},{\"attributes\":{\"fill_alpha\":{\"value\":0.2},\"fill_color\":{\"value\":\"#30a2da\"},\"hatch_alpha\":{\"value\":0.2},\"hatch_color\":{\"value\":\"#30a2da\"},\"line_alpha\":{\"value\":0.2},\"line_color\":{\"value\":\"#30a2da\"},\"size\":{\"value\":5.477225575051661},\"x\":{\"field\":\"mobile_app_rating\"},\"y\":{\"field\":\"personal_banker_rating\"}},\"id\":\"1863\",\"type\":\"Scatter\"},{\"attributes\":{\"angle\":{\"value\":0.0},\"fill_alpha\":{\"value\":1.0},\"fill_color\":{\"value\":\"#30a2da\"},\"hatch_alpha\":{\"value\":1.0},\"hatch_color\":{\"value\":\"#30a2da\"},\"hatch_scale\":{\"value\":12.0},\"hatch_weight\":{\"value\":1.0},\"line_alpha\":{\"value\":1.0},\"line_cap\":{\"value\":\"butt\"},\"line_color\":{\"value\":\"#30a2da\"},\"line_dash\":{\"value\":[]},\"line_dash_offset\":{\"value\":0},\"line_join\":{\"value\":\"bevel\"},\"line_width\":{\"value\":1},\"marker\":{\"value\":\"circle\"},\"size\":{\"value\":5.477225575051661},\"x\":{\"field\":\"mobile_app_rating\"},\"y\":{\"field\":\"personal_banker_rating\"}},\"id\":\"1878\",\"type\":\"Scatter\"},{\"attributes\":{},\"id\":\"1859\",\"type\":\"Selection\"},{\"attributes\":{},\"id\":\"1946\",\"type\":\"UnionRenderers\"},{\"attributes\":{\"end\":5.263,\"reset_end\":5.263,\"reset_start\":0.06699999999999995,\"start\":0.06699999999999995,\"tags\":[[[\"personal_banker_rating\",\"personal_banker_rating\",null]]]},\"id\":\"1817\",\"type\":\"Range1d\"},{\"attributes\":{\"fill_alpha\":{\"value\":0.1},\"fill_color\":{\"value\":\"#30a2da\"},\"hatch_alpha\":{\"value\":0.1},\"hatch_color\":{\"value\":\"#30a2da\"},\"line_alpha\":{\"value\":0.1},\"line_color\":{\"value\":\"#30a2da\"},\"size\":{\"value\":5.477225575051661},\"x\":{\"field\":\"mobile_app_rating\"},\"y\":{\"field\":\"personal_banker_rating\"}},\"id\":\"1862\",\"type\":\"Scatter\"},{\"attributes\":{},\"id\":\"1827\",\"type\":\"LinearScale\"},{\"attributes\":{\"source\":{\"id\":\"1858\"}},\"id\":\"1865\",\"type\":\"CDSView\"},{\"attributes\":{\"data\":{\"customer_segment4\":[2,2,2,2,2,2,2,2,2,2,2,2,2,2,2],\"mobile_app_rating\":{\"__ndarray__\":\"KVyPwvUo7D8AAAAAAAAEQFyPwvUoXAFAAAAAAAAAAEAfhetRuB4HQAAAAAAAAAJAAAAAAAAA8D8AAAAAAAAGQPYoXI/C9QZAAAAAAAAAAEBmZmZmZmYCQEjhehSuR/k/AAAAAAAA/D9I4XoUrkcFQAAAAAAAAABA\",\"dtype\":\"float64\",\"order\":\"little\",\"shape\":[15]},\"personal_banker_rating\":{\"__ndarray__\":\"AAAAAAAACEA9CtejcD0QQAAAAAAAAAhAAAAAAAAADkBmZmZmZmYOQAAAAAAAAApAAAAAAAAAEkDXo3A9CtcQQFyPwvUoXA1AexSuR+F6DEAAAAAAAAAMQOF6FK5H4QZAAAAAAAAAEEBcj8L1KFwLQFK4HoXrURNA\",\"dtype\":\"float64\",\"order\":\"little\",\"shape\":[15]}},\"selected\":{\"id\":\"1902\"},\"selection_policy\":{\"id\":\"1920\"}},\"id\":\"1901\",\"type\":\"ColumnDataSource\"},{\"attributes\":{\"fill_alpha\":{\"value\":0.2},\"fill_color\":{\"value\":\"#e5ae38\"},\"hatch_alpha\":{\"value\":0.2},\"hatch_color\":{\"value\":\"#e5ae38\"},\"line_alpha\":{\"value\":0.2},\"line_color\":{\"value\":\"#e5ae38\"},\"size\":{\"value\":5.477225575051661},\"x\":{\"field\":\"mobile_app_rating\"},\"y\":{\"field\":\"personal_banker_rating\"}},\"id\":\"1906\",\"type\":\"Scatter\"},{\"attributes\":{\"click_policy\":\"mute\",\"coordinates\":null,\"group\":null,\"items\":[{\"id\":\"1877\"},{\"id\":\"1899\"},{\"id\":\"1923\"},{\"id\":\"1949\"}],\"location\":[0,0],\"title\":\"customer_segment4\"},\"id\":\"1876\",\"type\":\"Legend\"},{\"attributes\":{\"label\":{\"value\":\"1\"},\"renderers\":[{\"id\":\"1885\"}]},\"id\":\"1899\",\"type\":\"LegendItem\"},{\"attributes\":{\"fill_color\":{\"value\":\"#fc4f30\"},\"hatch_color\":{\"value\":\"#fc4f30\"},\"line_color\":{\"value\":\"#fc4f30\"},\"size\":{\"value\":5.477225575051661},\"x\":{\"field\":\"mobile_app_rating\"},\"y\":{\"field\":\"personal_banker_rating\"}},\"id\":\"1882\",\"type\":\"Scatter\"},{\"attributes\":{\"label\":{\"value\":\"0\"},\"renderers\":[{\"id\":\"1864\"}]},\"id\":\"1877\",\"type\":\"LegendItem\"},{\"attributes\":{},\"id\":\"1829\",\"type\":\"LinearScale\"},{\"attributes\":{\"coordinates\":null,\"data_source\":{\"id\":\"1879\"},\"glyph\":{\"id\":\"1882\"},\"group\":null,\"hover_glyph\":null,\"muted_glyph\":{\"id\":\"1884\"},\"nonselection_glyph\":{\"id\":\"1883\"},\"selection_glyph\":{\"id\":\"1900\"},\"view\":{\"id\":\"1886\"}},\"id\":\"1885\",\"type\":\"GlyphRenderer\"},{\"attributes\":{\"source\":{\"id\":\"1901\"}},\"id\":\"1908\",\"type\":\"CDSView\"},{\"attributes\":{\"below\":[{\"id\":\"1831\"}],\"center\":[{\"id\":\"1834\"},{\"id\":\"1838\"}],\"height\":300,\"left\":[{\"id\":\"1835\"}],\"margin\":[5,5,5,5],\"min_border_bottom\":10,\"min_border_left\":10,\"min_border_right\":10,\"min_border_top\":10,\"renderers\":[{\"id\":\"1864\"},{\"id\":\"1885\"},{\"id\":\"1907\"},{\"id\":\"1931\"}],\"right\":[{\"id\":\"1876\"}],\"sizing_mode\":\"fixed\",\"title\":{\"id\":\"1823\"},\"toolbar\":{\"id\":\"1845\"},\"width\":700,\"x_range\":{\"id\":\"1816\"},\"x_scale\":{\"id\":\"1827\"},\"y_range\":{\"id\":\"1817\"},\"y_scale\":{\"id\":\"1829\"}},\"id\":\"1822\",\"subtype\":\"Figure\",\"type\":\"Plot\"},{\"attributes\":{\"fill_alpha\":{\"value\":0.1},\"fill_color\":{\"value\":\"#e5ae38\"},\"hatch_alpha\":{\"value\":0.1},\"hatch_color\":{\"value\":\"#e5ae38\"},\"line_alpha\":{\"value\":0.1},\"line_color\":{\"value\":\"#e5ae38\"},\"size\":{\"value\":5.477225575051661},\"x\":{\"field\":\"mobile_app_rating\"},\"y\":{\"field\":\"personal_banker_rating\"}},\"id\":\"1905\",\"type\":\"Scatter\"},{\"attributes\":{\"coordinates\":null,\"group\":null,\"text_color\":\"black\",\"text_font_size\":\"12pt\"},\"id\":\"1823\",\"type\":\"Title\"},{\"attributes\":{\"data\":{\"customer_segment4\":[3,3,3,3,3,3,3,3,3,3,3,3,3,3,3,3,3,3,3,3,3,3,3,3,3],\"mobile_app_rating\":{\"__ndarray__\":\"AAAAAAAADECuR+F6FK4PQHsUrkfheg5AuB6F61G4EEAzMzMzMzMLQJqZmZmZmQlAcT0K16NwC0Bcj8L1KFwNQAAAAAAAABBA9ihcj8L1DEBxPQrXo3AQQDMzMzMzMw9AAAAAAAAADkAAAAAAAAAQQOxRuB6F6w1AmpmZmZmZCUAAAAAAAAAMQB+F61G4HgtAFK5H4XoUEUCF61G4HoUJQK5H4XoUrg1AAAAAAAAAEEAAAAAAAAAMQK5H4XoUrgtAAAAAAAAADEA=\",\"dtype\":\"float64\",\"order\":\"little\",\"shape\":[25]},\"personal_banker_rating\":{\"__ndarray__\":\"MzMzMzMzA0AAAAAAAAAAQArXo3A9CgNAAAAAAAAA4D8AAAAAAAAAQAAAAAAAAABAAAAAAAAA8D8AAAAAAAAAQAAAAAAAAABAAAAAAAAAAEAAAAAAAAAAQAAAAAAAAOA/9ihcj8L1+D8AAAAAAAAAQDMzMzMzMwNAXI/C9ShcAUCkcD0K16MCQPYoXI/C9fw/AAAAAAAAAEBI4XoUrkf9P1yPwvUoXAFAMzMzMzMzA0BmZmZmZmYCQJqZmZmZmQNAMzMzMzMzA0A=\",\"dtype\":\"float64\",\"order\":\"little\",\"shape\":[25]}},\"selected\":{\"id\":\"1926\"},\"selection_policy\":{\"id\":\"1946\"}},\"id\":\"1925\",\"type\":\"ColumnDataSource\"},{\"attributes\":{\"axis_label\":\"mobile_app_rating\",\"coordinates\":null,\"formatter\":{\"id\":\"1853\"},\"group\":null,\"major_label_policy\":{\"id\":\"1854\"},\"ticker\":{\"id\":\"1832\"}},\"id\":\"1831\",\"type\":\"LinearAxis\"},{\"attributes\":{\"fill_alpha\":{\"value\":0.2},\"fill_color\":{\"value\":\"#fc4f30\"},\"hatch_alpha\":{\"value\":0.2},\"hatch_color\":{\"value\":\"#fc4f30\"},\"line_alpha\":{\"value\":0.2},\"line_color\":{\"value\":\"#fc4f30\"},\"size\":{\"value\":5.477225575051661},\"x\":{\"field\":\"mobile_app_rating\"},\"y\":{\"field\":\"personal_banker_rating\"}},\"id\":\"1884\",\"type\":\"Scatter\"},{\"attributes\":{},\"id\":\"1832\",\"type\":\"BasicTicker\"},{\"attributes\":{\"fill_color\":{\"value\":\"#e5ae38\"},\"hatch_color\":{\"value\":\"#e5ae38\"},\"line_color\":{\"value\":\"#e5ae38\"},\"size\":{\"value\":5.477225575051661},\"x\":{\"field\":\"mobile_app_rating\"},\"y\":{\"field\":\"personal_banker_rating\"}},\"id\":\"1904\",\"type\":\"Scatter\"},{\"attributes\":{\"axis\":{\"id\":\"1831\"},\"coordinates\":null,\"grid_line_color\":null,\"group\":null,\"ticker\":null},\"id\":\"1834\",\"type\":\"Grid\"},{\"attributes\":{\"children\":[{\"id\":\"1815\"},{\"id\":\"1822\"},{\"id\":\"1967\"}],\"margin\":[0,0,0,0],\"name\":\"Row01716\",\"tags\":[\"embedded\"]},\"id\":\"1814\",\"type\":\"Row\"},{\"attributes\":{},\"id\":\"1920\",\"type\":\"UnionRenderers\"},{\"attributes\":{},\"id\":\"1840\",\"type\":\"PanTool\"},{\"attributes\":{},\"id\":\"1902\",\"type\":\"Selection\"},{\"attributes\":{\"source\":{\"id\":\"1879\"}},\"id\":\"1886\",\"type\":\"CDSView\"},{\"attributes\":{\"axis_label\":\"personal_banker_rating\",\"coordinates\":null,\"formatter\":{\"id\":\"1856\"},\"group\":null,\"major_label_policy\":{\"id\":\"1857\"},\"ticker\":{\"id\":\"1836\"}},\"id\":\"1835\",\"type\":\"LinearAxis\"},{\"attributes\":{\"axis\":{\"id\":\"1835\"},\"coordinates\":null,\"dimension\":1,\"grid_line_color\":null,\"group\":null,\"ticker\":null},\"id\":\"1838\",\"type\":\"Grid\"},{\"attributes\":{},\"id\":\"1836\",\"type\":\"BasicTicker\"},{\"attributes\":{\"fill_alpha\":{\"value\":0.1},\"fill_color\":{\"value\":\"#fc4f30\"},\"hatch_alpha\":{\"value\":0.1},\"hatch_color\":{\"value\":\"#fc4f30\"},\"line_alpha\":{\"value\":0.1},\"line_color\":{\"value\":\"#fc4f30\"},\"size\":{\"value\":5.477225575051661},\"x\":{\"field\":\"mobile_app_rating\"},\"y\":{\"field\":\"personal_banker_rating\"}},\"id\":\"1883\",\"type\":\"Scatter\"},{\"attributes\":{},\"id\":\"1841\",\"type\":\"WheelZoomTool\"},{\"attributes\":{},\"id\":\"1839\",\"type\":\"SaveTool\"},{\"attributes\":{\"overlay\":{\"id\":\"1844\"}},\"id\":\"1842\",\"type\":\"BoxZoomTool\"},{\"attributes\":{},\"id\":\"1843\",\"type\":\"ResetTool\"},{\"attributes\":{},\"id\":\"1880\",\"type\":\"Selection\"},{\"attributes\":{\"angle\":{\"value\":0.0},\"fill_alpha\":{\"value\":1.0},\"fill_color\":{\"value\":\"#6d904f\"},\"hatch_alpha\":{\"value\":1.0},\"hatch_color\":{\"value\":\"#6d904f\"},\"hatch_scale\":{\"value\":12.0},\"hatch_weight\":{\"value\":1.0},\"line_alpha\":{\"value\":1.0},\"line_cap\":{\"value\":\"butt\"},\"line_color\":{\"value\":\"#6d904f\"},\"line_dash\":{\"value\":[]},\"line_dash_offset\":{\"value\":0},\"line_join\":{\"value\":\"bevel\"},\"line_width\":{\"value\":1},\"marker\":{\"value\":\"circle\"},\"size\":{\"value\":5.477225575051661},\"x\":{\"field\":\"mobile_app_rating\"},\"y\":{\"field\":\"personal_banker_rating\"}},\"id\":\"1950\",\"type\":\"Scatter\"},{\"attributes\":{\"bottom_units\":\"screen\",\"coordinates\":null,\"fill_alpha\":0.5,\"fill_color\":\"lightgrey\",\"group\":null,\"left_units\":\"screen\",\"level\":\"overlay\",\"line_alpha\":1.0,\"line_color\":\"black\",\"line_dash\":[4,4],\"line_width\":2,\"right_units\":\"screen\",\"syncable\":false,\"top_units\":\"screen\"},\"id\":\"1844\",\"type\":\"BoxAnnotation\"},{\"attributes\":{},\"id\":\"1896\",\"type\":\"UnionRenderers\"},{\"attributes\":{},\"id\":\"1873\",\"type\":\"UnionRenderers\"},{\"attributes\":{},\"id\":\"1854\",\"type\":\"AllLabels\"},{\"attributes\":{\"data\":{\"customer_segment4\":[0,0,0,0,0,0,0,0,0,0,0,0,0,0,0,0,0,0,0,0,0,0,0,0,0,0,0,0,0,0,0,0,0,0,0,0,0,0,0,0,0,0,0,0,0,0,0,0,0,0,0,0,0,0,0,0,0,0,0,0,0,0,0,0,0,0,0,0,0,0,0,0,0,0,0,0],\"mobile_app_rating\":{\"__ndarray__\":\"MzMzMzMzB0BxPQrXo3AHQB+F61G4HgdA4XoUrkfhBEB7FK5H4XoKQAAAAAAAAAhAZmZmZmZmCkBcj8L1KFwHQKRwPQrXowpAAAAAAAAABkBxPQrXo3AHQKRwPQrXowJAAAAAAAAACED2KFyPwvUGQLgehetRuAhAXI/C9ShcA0AAAAAAAAAIQM3MzMzMzARAcT0K16NwB0AfhetRuB4JQFK4HoXrUQpASOF6FK5HB0AAAAAAAAAIQHsUrkfheghAAAAAAAAACkAzMzMzMzMHQArXo3A9CgdAFK5H4XoUCkCF61G4HoUDQKRwPQrXowZAzczMzMzMCkBcj8L1KFwHQD0K16NwPQZAH4XrUbgeA0ApXI/C9SgKQFyPwvUoXAVAexSuR+F6CECkcD0K16MKQKRwPQrXowRAUrgehetRCkD2KFyPwvUEQK5H4XoUrglApHA9CtejCEDhehSuR+EGQI/C9ShcjwhA16NwPQrXCUAzMzMzMzMHQMP1KFyPwglAzczMzMzMCEBSuB6F61EIQI/C9ShcjwRA4XoUrkfhBkCkcD0K16MKQKRwPQrXowZAj8L1KFyPBkCkcD0K16MGQI/C9ShcjwhAAAAAAAAAAEDsUbgehesJQClcj8L1KAhAcT0K16NwB0C4HoXrUbgKQKRwPQrXowJAmpmZmZmZCUAAAAAAAAAIQAAAAAAAAAZAUrgehetRCEB7FK5H4XoIQFK4HoXrUQhAZmZmZmZmBkAAAAAAAAAIQAAAAAAAAAhAAAAAAAAACkAK16NwPQoLQDMzMzMzMwNAAAAAAAAACkA=\",\"dtype\":\"float64\",\"order\":\"little\",\"shape\":[76]},\"personal_banker_rating\":{\"__ndarray__\":\"AAAAAAAABkDhehSuR+EKQPYoXI/C9QRAFK5H4XoUBED2KFyPwvUIQFyPwvUoXAlApHA9CtejBkBcj8L1KFwBQJqZmZmZmQVAMzMzMzMzBUBxPQrXo3ALQMP1KFyPwgVAH4XrUbgeB0ApXI/C9SgIQAAAAAAAAAZA16NwPQrXB0Bcj8L1KFwFQI/C9ShcjwRAuB6F61G4DEApXI/C9SgIQAAAAAAAAAhA7FG4HoXrB0AAAAAAAAAEQFK4HoXrUQhAXI/C9ShcBUC4HoXrUbgGQKRwPQrXowpAw/UoXI/CB0AzMzMzMzMHQAAAAAAAAAhApHA9CtejBkCPwvUoXI8IQAAAAAAAAAhAuB6F61G4BEA9CtejcD0IQAAAAAAAAAZAzczMzMzMBkAAAAAAAAAEQAAAAAAAAARAzczMzMzMBkAAAAAAAAAIQPYoXI/C9QRAw/UoXI/CA0CuR+F6FK4DQHE9CtejcAVAAAAAAAAABEAAAAAAAAAEQLgehetRuAZA4XoUrkfhBkDhehSuR+EIQGZmZmZmZgBAw/UoXI/CBUBcj8L1KFwHQHE9CtejcAVAFK5H4XoUBkAK16NwPQoDQHE9CtejcAdAXI/C9ShcBUDNzMzMzMwIQM3MzMzMzAhAZmZmZmZmCkB7FK5H4XoGQAAAAAAAAAhApHA9CtejAkCPwvUoXI8EQFyPwvUoXAlAXI/C9ShcBUDNzMzMzMwEQArXo3A9CgdAhetRuB6FBUBSuB6F61EGQGZmZmZmZgZArkfhehSuBUCuR+F6FK4FQGZmZmZmZgZACtejcD0KB0A=\",\"dtype\":\"float64\",\"order\":\"little\",\"shape\":[76]}},\"selected\":{\"id\":\"1859\"},\"selection_policy\":{\"id\":\"1873\"}},\"id\":\"1858\",\"type\":\"ColumnDataSource\"},{\"attributes\":{\"margin\":[5,5,5,5],\"name\":\"HSpacer01721\",\"sizing_mode\":\"stretch_width\"},\"id\":\"1967\",\"type\":\"Spacer\"},{\"attributes\":{\"angle\":{\"value\":0.0},\"fill_alpha\":{\"value\":1.0},\"fill_color\":{\"value\":\"#e5ae38\"},\"hatch_alpha\":{\"value\":1.0},\"hatch_color\":{\"value\":\"#e5ae38\"},\"hatch_scale\":{\"value\":12.0},\"hatch_weight\":{\"value\":1.0},\"line_alpha\":{\"value\":1.0},\"line_cap\":{\"value\":\"butt\"},\"line_color\":{\"value\":\"#e5ae38\"},\"line_dash\":{\"value\":[]},\"line_dash_offset\":{\"value\":0},\"line_join\":{\"value\":\"bevel\"},\"line_width\":{\"value\":1},\"marker\":{\"value\":\"circle\"},\"size\":{\"value\":5.477225575051661},\"x\":{\"field\":\"mobile_app_rating\"},\"y\":{\"field\":\"personal_banker_rating\"}},\"id\":\"1924\",\"type\":\"Scatter\"},{\"attributes\":{\"margin\":[5,5,5,5],\"name\":\"HSpacer01720\",\"sizing_mode\":\"stretch_width\"},\"id\":\"1815\",\"type\":\"Spacer\"},{\"attributes\":{\"tools\":[{\"id\":\"1818\"},{\"id\":\"1839\"},{\"id\":\"1840\"},{\"id\":\"1841\"},{\"id\":\"1842\"},{\"id\":\"1843\"}]},\"id\":\"1845\",\"type\":\"Toolbar\"},{\"attributes\":{},\"id\":\"1926\",\"type\":\"Selection\"}],\"root_ids\":[\"1814\"]},\"title\":\"Bokeh Application\",\"version\":\"2.4.3\"}};\n",
       "    var render_items = [{\"docid\":\"e5ee572e-fe23-40be-b5c2-f2e88efb0291\",\"root_ids\":[\"1814\"],\"roots\":{\"1814\":\"6b7ba58a-a1a2-45d4-8f28-2d7fc60a5241\"}}];\n",
       "    root.Bokeh.embed.embed_items_notebook(docs_json, render_items);\n",
       "  }\n",
       "  if (root.Bokeh !== undefined && root.Bokeh.Panel !== undefined) {\n",
       "    embed_document(root);\n",
       "  } else {\n",
       "    var attempts = 0;\n",
       "    var timer = setInterval(function(root) {\n",
       "      if (root.Bokeh !== undefined && root.Bokeh.Panel !== undefined) {\n",
       "        clearInterval(timer);\n",
       "        embed_document(root);\n",
       "      } else if (document.readyState == \"complete\") {\n",
       "        attempts++;\n",
       "        if (attempts > 200) {\n",
       "          clearInterval(timer);\n",
       "          console.log(\"Bokeh: ERROR: Unable to run BokehJS code because BokehJS library is missing\");\n",
       "        }\n",
       "      }\n",
       "    }, 25, root)\n",
       "  }\n",
       "})(window);</script>"
      ],
      "text/plain": [
       ":NdOverlay   [customer_segment4]\n",
       "   :Scatter   [mobile_app_rating]   (personal_banker_rating)"
      ]
     },
     "execution_count": 36,
     "metadata": {
      "application/vnd.holoviews_exec.v0+json": {
       "id": "1814"
      }
     },
     "output_type": "execute_result"
    }
   ],
   "source": [
    "service_ratings_predictions_df.hvplot.scatter(\n",
    "    x='mobile_app_rating',\n",
    "    y='personal_banker_rating',\n",
    "    by='customer_segment4'\n",
    "    \n",
    "\n",
    ")"
   ]
  },
  {
   "cell_type": "markdown",
   "metadata": {},
   "source": [
    "## Answer the following question"
   ]
  },
  {
   "cell_type": "markdown",
   "metadata": {},
   "source": [
    "**Question:** Can any additional information be gleaned from the customer segmentation data when clusters of 3 and 4 are applied?\n",
    "\n",
    "**Answers:** really shows the top left quadrant as people that really like personal banker instead of mobile apps"
   ]
  },
  {
   "cell_type": "code",
   "execution_count": 47,
   "metadata": {},
   "outputs": [
    {
     "data": {
      "text/html": [
       "<div>\n",
       "<style scoped>\n",
       "    .dataframe tbody tr th:only-of-type {\n",
       "        vertical-align: middle;\n",
       "    }\n",
       "\n",
       "    .dataframe tbody tr th {\n",
       "        vertical-align: top;\n",
       "    }\n",
       "\n",
       "    .dataframe thead tr th {\n",
       "        text-align: left;\n",
       "    }\n",
       "\n",
       "    .dataframe thead tr:last-of-type th {\n",
       "        text-align: right;\n",
       "    }\n",
       "</style>\n",
       "<table border=\"1\" class=\"dataframe\">\n",
       "  <thead>\n",
       "    <tr>\n",
       "      <th></th>\n",
       "      <th colspan=\"8\" halign=\"left\">mobile_app_rating</th>\n",
       "      <th colspan=\"5\" halign=\"left\">personal_banker_rating</th>\n",
       "      <th colspan=\"8\" halign=\"left\">customer_segment3</th>\n",
       "    </tr>\n",
       "    <tr>\n",
       "      <th></th>\n",
       "      <th>count</th>\n",
       "      <th>mean</th>\n",
       "      <th>std</th>\n",
       "      <th>min</th>\n",
       "      <th>25%</th>\n",
       "      <th>50%</th>\n",
       "      <th>75%</th>\n",
       "      <th>max</th>\n",
       "      <th>count</th>\n",
       "      <th>mean</th>\n",
       "      <th>...</th>\n",
       "      <th>75%</th>\n",
       "      <th>max</th>\n",
       "      <th>count</th>\n",
       "      <th>mean</th>\n",
       "      <th>std</th>\n",
       "      <th>min</th>\n",
       "      <th>25%</th>\n",
       "      <th>50%</th>\n",
       "      <th>75%</th>\n",
       "      <th>max</th>\n",
       "    </tr>\n",
       "    <tr>\n",
       "      <th>customer_segment4</th>\n",
       "      <th></th>\n",
       "      <th></th>\n",
       "      <th></th>\n",
       "      <th></th>\n",
       "      <th></th>\n",
       "      <th></th>\n",
       "      <th></th>\n",
       "      <th></th>\n",
       "      <th></th>\n",
       "      <th></th>\n",
       "      <th></th>\n",
       "      <th></th>\n",
       "      <th></th>\n",
       "      <th></th>\n",
       "      <th></th>\n",
       "      <th></th>\n",
       "      <th></th>\n",
       "      <th></th>\n",
       "      <th></th>\n",
       "      <th></th>\n",
       "      <th></th>\n",
       "    </tr>\n",
       "  </thead>\n",
       "  <tbody>\n",
       "    <tr>\n",
       "      <th>0</th>\n",
       "      <td>76.0</td>\n",
       "      <td>2.952368</td>\n",
       "      <td>0.288078</td>\n",
       "      <td>2.00</td>\n",
       "      <td>2.830</td>\n",
       "      <td>3.00</td>\n",
       "      <td>3.2025</td>\n",
       "      <td>3.38</td>\n",
       "      <td>76.0</td>\n",
       "      <td>2.813026</td>\n",
       "      <td>...</td>\n",
       "      <td>3.00</td>\n",
       "      <td>3.59</td>\n",
       "      <td>76.0</td>\n",
       "      <td>1.697368</td>\n",
       "      <td>0.516907</td>\n",
       "      <td>0.0</td>\n",
       "      <td>1.0</td>\n",
       "      <td>2.0</td>\n",
       "      <td>2.0</td>\n",
       "      <td>2.0</td>\n",
       "    </tr>\n",
       "    <tr>\n",
       "      <th>1</th>\n",
       "      <td>67.0</td>\n",
       "      <td>3.757761</td>\n",
       "      <td>0.353488</td>\n",
       "      <td>3.34</td>\n",
       "      <td>3.495</td>\n",
       "      <td>3.67</td>\n",
       "      <td>3.9150</td>\n",
       "      <td>4.67</td>\n",
       "      <td>67.0</td>\n",
       "      <td>2.950448</td>\n",
       "      <td>...</td>\n",
       "      <td>3.09</td>\n",
       "      <td>3.80</td>\n",
       "      <td>67.0</td>\n",
       "      <td>1.000000</td>\n",
       "      <td>0.000000</td>\n",
       "      <td>1.0</td>\n",
       "      <td>1.0</td>\n",
       "      <td>1.0</td>\n",
       "      <td>1.0</td>\n",
       "      <td>1.0</td>\n",
       "    </tr>\n",
       "    <tr>\n",
       "      <th>2</th>\n",
       "      <td>15.0</td>\n",
       "      <td>2.106667</td>\n",
       "      <td>0.615347</td>\n",
       "      <td>0.88</td>\n",
       "      <td>1.875</td>\n",
       "      <td>2.17</td>\n",
       "      <td>2.5800</td>\n",
       "      <td>2.89</td>\n",
       "      <td>15.0</td>\n",
       "      <td>3.694000</td>\n",
       "      <td>...</td>\n",
       "      <td>4.03</td>\n",
       "      <td>4.83</td>\n",
       "      <td>15.0</td>\n",
       "      <td>2.000000</td>\n",
       "      <td>0.000000</td>\n",
       "      <td>2.0</td>\n",
       "      <td>2.0</td>\n",
       "      <td>2.0</td>\n",
       "      <td>2.0</td>\n",
       "      <td>2.0</td>\n",
       "    </tr>\n",
       "    <tr>\n",
       "      <th>3</th>\n",
       "      <td>25.0</td>\n",
       "      <td>3.679600</td>\n",
       "      <td>0.312976</td>\n",
       "      <td>3.19</td>\n",
       "      <td>3.460</td>\n",
       "      <td>3.67</td>\n",
       "      <td>3.9600</td>\n",
       "      <td>4.27</td>\n",
       "      <td>25.0</td>\n",
       "      <td>1.944000</td>\n",
       "      <td>...</td>\n",
       "      <td>2.33</td>\n",
       "      <td>2.45</td>\n",
       "      <td>25.0</td>\n",
       "      <td>0.040000</td>\n",
       "      <td>0.200000</td>\n",
       "      <td>0.0</td>\n",
       "      <td>0.0</td>\n",
       "      <td>0.0</td>\n",
       "      <td>0.0</td>\n",
       "      <td>1.0</td>\n",
       "    </tr>\n",
       "  </tbody>\n",
       "</table>\n",
       "<p>4 rows × 24 columns</p>\n",
       "</div>"
      ],
      "text/plain": [
       "                  mobile_app_rating                                         \\\n",
       "                              count      mean       std   min    25%   50%   \n",
       "customer_segment4                                                            \n",
       "0                              76.0  2.952368  0.288078  2.00  2.830  3.00   \n",
       "1                              67.0  3.757761  0.353488  3.34  3.495  3.67   \n",
       "2                              15.0  2.106667  0.615347  0.88  1.875  2.17   \n",
       "3                              25.0  3.679600  0.312976  3.19  3.460  3.67   \n",
       "\n",
       "                                personal_banker_rating            ...        \\\n",
       "                      75%   max                  count      mean  ...   75%   \n",
       "customer_segment4                                                 ...         \n",
       "0                  3.2025  3.38                   76.0  2.813026  ...  3.00   \n",
       "1                  3.9150  4.67                   67.0  2.950448  ...  3.09   \n",
       "2                  2.5800  2.89                   15.0  3.694000  ...  4.03   \n",
       "3                  3.9600  4.27                   25.0  1.944000  ...  2.33   \n",
       "\n",
       "                        customer_segment3                                     \\\n",
       "                    max             count      mean       std  min  25%  50%   \n",
       "customer_segment4                                                              \n",
       "0                  3.59              76.0  1.697368  0.516907  0.0  1.0  2.0   \n",
       "1                  3.80              67.0  1.000000  0.000000  1.0  1.0  1.0   \n",
       "2                  4.83              15.0  2.000000  0.000000  2.0  2.0  2.0   \n",
       "3                  2.45              25.0  0.040000  0.200000  0.0  0.0  0.0   \n",
       "\n",
       "                             \n",
       "                   75%  max  \n",
       "customer_segment4            \n",
       "0                  2.0  2.0  \n",
       "1                  1.0  1.0  \n",
       "2                  2.0  2.0  \n",
       "3                  0.0  1.0  \n",
       "\n",
       "[4 rows x 24 columns]"
      ]
     },
     "execution_count": 47,
     "metadata": {},
     "output_type": "execute_result"
    }
   ],
   "source": [
    "service_ratings_predictions_df.groupby('customer_segment4').describe()"
   ]
  }
 ],
 "metadata": {
  "kernelspec": {
   "display_name": "Python 3.9.12 ('base')",
   "language": "python",
   "name": "python3"
  },
  "language_info": {
   "codemirror_mode": {
    "name": "ipython",
    "version": 3
   },
   "file_extension": ".py",
   "mimetype": "text/x-python",
   "name": "python",
   "nbconvert_exporter": "python",
   "pygments_lexer": "ipython3",
   "version": "3.9.12"
  },
  "vscode": {
   "interpreter": {
    "hash": "996ffda76004d767ccbaaba7e2437ee3b45ec97388b0612ddf8c69ff1d3b8680"
   }
  }
 },
 "nbformat": 4,
 "nbformat_minor": 4
}
